{
  "nbformat": 4,
  "nbformat_minor": 0,
  "metadata": {
    "colab": {
      "name": "03TextureClassificationUsingVGG16_Solution.ipynb",
      "version": "0.3.2",
      "views": {},
      "default_view": {},
      "provenance": []
    },
    "kernelspec": {
      "display_name": "Python 2",
      "language": "python",
      "name": "python2"
    },
    "accelerator": "GPU"
  },
  "cells": [
    {
      "metadata": {
        "id": "9gPF149V-3xl",
        "colab_type": "text"
      },
      "cell_type": "markdown",
      "source": [
        "## Using pre-trained models for Texture Classification\n",
        "In this lab, we will use pre-trained models for the same texture classification task. The dataset we will be using is available here: http://dx.doi.org/10.5281/zenodo.53169. \n",
        "\n",
        "![alt text](https://www.researchgate.net/profile/Jakob_Kather/publication/303998214/figure/fig7/AS:391073710002224@1470250646407/Representative-images-from-our-dataset-Here-the-first-10-images-of-every-tissue-class.png)\n",
        "\n",
        "The above figure shows the 8 different classes of tissue we will be trying to identify. "
      ]
    },
    {
      "metadata": {
        "id": "2XS4HHKf-3xo",
        "colab_type": "code",
        "colab": {
          "autoexec": {
            "startup": false,
            "wait_interval": 0
          }
        }
      },
      "cell_type": "code",
      "source": [
        "from __future__ import print_function\n",
        "import os\n",
        "import numpy as np\n",
        "from tensorflow.keras.utils import to_categorical\n",
        "from tensorflow.keras import Model, Sequential\n",
        "from tensorflow.keras.layers import Input, Flatten, Dense, Dropout\n",
        "from tensorflow.keras.applications import VGG16\n",
        "from matplotlib import pylab as plt\n",
        "from skimage.color import rgb2lab, rgb2hsv"
      ],
      "execution_count": 0,
      "outputs": []
    },
    {
      "metadata": {
        "id": "1W3NwJ48-3xz",
        "colab_type": "text"
      },
      "cell_type": "markdown",
      "source": [
        "## Step 1: Load pre-trained VGG16 model\n",
        "We will use the VGG16 model as the feature extractor for this classification task. First, we need to download the pre-trained weights. The model has been trained on the ImageNet image classification dataset. For more details on this dataset see http://www.image-net.org/. "
      ]
    },
    {
      "metadata": {
        "id": "6VCkl7rQ-3x1",
        "colab_type": "code",
        "colab": {
          "autoexec": {
            "startup": false,
            "wait_interval": 0
          },
          "base_uri": "https://localhost:8080/",
          "height": 67
        },
        "outputId": "e3727bbe-9a96-4bab-9eb9-fa486820d0a8",
        "executionInfo": {
          "status": "ok",
          "timestamp": 1532458269997,
          "user_tz": 240,
          "elapsed": 3506,
          "user": {
            "displayName": "Thomas Possidente",
            "photoUrl": "https://lh3.googleusercontent.com/a/default-user=s128",
            "userId": "106075129304574823577"
          }
        }
      },
      "cell_type": "code",
      "source": [
        "model = None\n",
        "model = VGG16(weights='imagenet', include_top=False, input_shape = (150, 150, 3))\n",
        "#model.summary()"
      ],
      "execution_count": 2,
      "outputs": [
        {
          "output_type": "stream",
          "text": [
            "Downloading data from https://github.com/fchollet/deep-learning-models/releases/download/v0.1/vgg16_weights_tf_dim_ordering_tf_kernels_notop.h5\n",
            "58892288/58889256 [==============================] - 1s 0us/step\n",
            "58900480/58889256 [==============================] - 1s 0us/step\n"
          ],
          "name": "stdout"
        }
      ]
    },
    {
      "metadata": {
        "id": "MtRugIuZ-3x9",
        "colab_type": "text"
      },
      "cell_type": "markdown",
      "source": [
        "## VGG16\n",
        "Let's examine the VGG16 model. The model has 16 layers as seen above. The model has the following specifications\n",
        "* Expected input size : 224x224 pixels\n",
        "* Number of output classes : 1000\n",
        "\n",
        "Our images are 150x150 pixels in size and come from only 10 categories. In order to use this model for our classification task, we need to do the following:\n",
        "* Resize images : Our input images can be resized to the appropriate dimensions. Alternatively, we can pad our images to the expected dimensions. Padding leads to additional choices - Do we pad with zeros, duplicate edge pixels or mirror the image across edges ?\n",
        "* Change the prediction layer : Remove the existing prediction layer and add a new layer that can predict 8 classes.\n",
        "* Train : Finally, we need to train the network on our data"
      ]
    },
    {
      "metadata": {
        "id": "5qee4CK6-3x_",
        "colab_type": "text"
      },
      "cell_type": "markdown",
      "source": [
        "# Step 2\n",
        "Load the data and resize images appropriately. Use the helper function in utils.py. The assumption is that you have already cloned the Week3 repo and know the path to the data folder."
      ]
    },
    {
      "metadata": {
        "id": "_k5tmqKKEXnj",
        "colab_type": "code",
        "colab": {
          "autoexec": {
            "startup": false,
            "wait_interval": 0
          }
        }
      },
      "cell_type": "code",
      "source": [
        "def load_crc_data(data_dir):\n",
        "    y = np.load(os.path.join(data_dir, 'rgb01.npz'))\n",
        "    labels = y['labels']\n",
        "    data = y['rgb_data']\n",
        "    label_str = y['label_str']\n",
        "    label_str = label_str.tolist() # this is to convert label_str back to a dictionary\n",
        "    y = []\n",
        "\n",
        "    for ii in range(2,6):\n",
        "        filename = os.path.join(data_dir, 'rgb0' + str(ii) + '.npz')\n",
        "        print('loading ', filename)\n",
        "        y = np.load(filename)\n",
        "        labels = np.append(labels, y['labels'], axis=0)\n",
        "        data = np.append(data, y['rgb_data'], axis=0)\n",
        "        print(data.shape)\n",
        "\n",
        "    return data, labels, label_str"
      ],
      "execution_count": 0,
      "outputs": []
    },
    {
      "metadata": {
        "id": "v4ISStKX-3yC",
        "colab_type": "code",
        "colab": {
          "autoexec": {
            "startup": false,
            "wait_interval": 0
          },
          "base_uri": "https://localhost:8080/",
          "height": 235
        },
        "outputId": "45c2c3aa-ef37-4032-8723-548de1586743",
        "executionInfo": {
          "status": "ok",
          "timestamp": 1532458350500,
          "user_tz": 240,
          "elapsed": 70924,
          "user": {
            "displayName": "Thomas Possidente",
            "photoUrl": "https://lh3.googleusercontent.com/a/default-user=s128",
            "userId": "106075129304574823577"
          }
        }
      },
      "cell_type": "code",
      "source": [
        "#! git clone https://github.com/BeaverWorksMedlytics/Week3_public.git\n",
        "os.chdir('..')\n",
        "from skimage.transform import resize\n",
        "from sklearn.model_selection import train_test_split\n",
        "data_dir = os.path.join( os.getcwd(), 'Week3_public', 'data', 'crc')\n",
        "data, labels, label_str = load_crc_data(data_dir)\n",
        "num_images = data.shape[0]"
      ],
      "execution_count": 5,
      "outputs": [
        {
          "output_type": "stream",
          "text": [
            "Cloning into 'Week3_public'...\n",
            "remote: Counting objects: 82, done.\u001b[K\n",
            "remote: Total 82 (delta 0), reused 0 (delta 0), pack-reused 82\u001b[K\n",
            "Unpacking objects: 100% (82/82), done.\n",
            "Checking out files: 100% (25/25), done.\n",
            "loading  /Week3_public/data/crc/rgb02.npz\n",
            "(2000, 150, 150, 3)\n",
            "loading  /Week3_public/data/crc/rgb03.npz\n",
            "(3000, 150, 150, 3)\n",
            "loading  /Week3_public/data/crc/rgb04.npz\n",
            "(4000, 150, 150, 3)\n",
            "loading  /Week3_public/data/crc/rgb05.npz\n",
            "(5000, 150, 150, 3)\n"
          ],
          "name": "stdout"
        }
      ]
    },
    {
      "metadata": {
        "id": "R0ag5Lm5-3yJ",
        "colab_type": "code",
        "colab": {
          "autoexec": {
            "startup": false,
            "wait_interval": 0
          },
          "base_uri": "https://localhost:8080/",
          "height": 34
        },
        "outputId": "40379779-068a-4530-8752-d9292d59db9d",
        "executionInfo": {
          "status": "ok",
          "timestamp": 1532366282763,
          "user_tz": 240,
          "elapsed": 40845,
          "user": {
            "displayName": "Thomas Possidente",
            "photoUrl": "https://lh3.googleusercontent.com/a/default-user=s128",
            "userId": "106075129304574823577"
          }
        }
      },
      "cell_type": "code",
      "source": [
        "# Resize data\n",
        "#resized_data = np.zeros((num_images, 224, 224, 3))\n",
        "#for ii in range(0, num_images):\n",
        "#    resized_data[ii,::] = resize(data[ii,::], (224, 224, 3), mode='symmetric')\n",
        "#data = resized_data\n",
        "#resized_data = []\n",
        "#print(data.shape)"
      ],
      "execution_count": 0,
      "outputs": [
        {
          "output_type": "stream",
          "text": [
            "(5000, 224, 224, 3)\n"
          ],
          "name": "stdout"
        }
      ]
    },
    {
      "metadata": {
        "id": "NEoblCFT-3yP",
        "colab_type": "code",
        "colab": {
          "autoexec": {
            "startup": false,
            "wait_interval": 0
          }
        }
      },
      "cell_type": "code",
      "source": [
        "#with open('resized.npz', 'wb') as fp:\n",
        "#    np.savez(fp, data=data, labels=labels)"
      ],
      "execution_count": 0,
      "outputs": []
    },
    {
      "metadata": {
        "id": "YptbEz_3-3yS",
        "colab_type": "code",
        "colab": {
          "autoexec": {
            "startup": false,
            "wait_interval": 0
          }
        }
      },
      "cell_type": "code",
      "source": [
        "# Split data into train and test sets\n",
        "train_images, test_images, train_labels, test_labels = train_test_split(data, labels, test_size=.2)\n",
        "data = None\n",
        "ntrain = train_images.shape[0]\n",
        "ntest  = test_images.shape[0]"
      ],
      "execution_count": 0,
      "outputs": []
    },
    {
      "metadata": {
        "id": "zDQw9IrA-3yX",
        "colab_type": "text"
      },
      "cell_type": "markdown",
      "source": [
        "## Step 3\n",
        "We will now modify the pre-trained VGG network as described earlier. We will remove the following layers : \n",
        "\n",
        "<img src=\"images/final_layers.png\" width=\"65%\"></img> \n"
      ]
    },
    {
      "metadata": {
        "id": "AA1U0Oe--3yY",
        "colab_type": "code",
        "colab": {
          "autoexec": {
            "startup": false,
            "wait_interval": 0
          },
          "base_uri": "https://localhost:8080/",
          "height": 638
        },
        "outputId": "60f73986-bdff-444b-d850-7e45321ad0d2",
        "executionInfo": {
          "status": "ok",
          "timestamp": 1532458361150,
          "user_tz": 240,
          "elapsed": 653,
          "user": {
            "displayName": "Thomas Possidente",
            "photoUrl": "https://lh3.googleusercontent.com/a/default-user=s128",
            "userId": "106075129304574823577"
          }
        }
      },
      "cell_type": "code",
      "source": [
        "# remove the final layer in the model\n",
        "for ii in range(0,4):\n",
        "    model.layers.pop()\n",
        "model.summary()"
      ],
      "execution_count": 7,
      "outputs": [
        {
          "output_type": "stream",
          "text": [
            "_________________________________________________________________\n",
            "Layer (type)                 Output Shape              Param #   \n",
            "=================================================================\n",
            "input_1 (InputLayer)         (None, 150, 150, 3)       0         \n",
            "_________________________________________________________________\n",
            "block1_conv1 (Conv2D)        (None, 150, 150, 64)      1792      \n",
            "_________________________________________________________________\n",
            "block1_conv2 (Conv2D)        (None, 150, 150, 64)      36928     \n",
            "_________________________________________________________________\n",
            "block1_pool (MaxPooling2D)   (None, 75, 75, 64)        0         \n",
            "_________________________________________________________________\n",
            "block2_conv1 (Conv2D)        (None, 75, 75, 128)       73856     \n",
            "_________________________________________________________________\n",
            "block2_conv2 (Conv2D)        (None, 75, 75, 128)       147584    \n",
            "_________________________________________________________________\n",
            "block2_pool (MaxPooling2D)   (None, 37, 37, 128)       0         \n",
            "_________________________________________________________________\n",
            "block3_conv1 (Conv2D)        (None, 37, 37, 256)       295168    \n",
            "_________________________________________________________________\n",
            "block3_conv2 (Conv2D)        (None, 37, 37, 256)       590080    \n",
            "_________________________________________________________________\n",
            "block3_conv3 (Conv2D)        (None, 37, 37, 256)       590080    \n",
            "_________________________________________________________________\n",
            "block3_pool (MaxPooling2D)   (None, 18, 18, 256)       0         \n",
            "_________________________________________________________________\n",
            "block4_conv1 (Conv2D)        (None, 18, 18, 512)       1180160   \n",
            "_________________________________________________________________\n",
            "block4_conv2 (Conv2D)        (None, 18, 18, 512)       2359808   \n",
            "_________________________________________________________________\n",
            "block4_conv3 (Conv2D)        (None, 18, 18, 512)       2359808   \n",
            "_________________________________________________________________\n",
            "block4_pool (MaxPooling2D)   (None, 9, 9, 512)         0         \n",
            "=================================================================\n",
            "Total params: 7,635,264\n",
            "Trainable params: 7,635,264\n",
            "Non-trainable params: 0\n",
            "_________________________________________________________________\n"
          ],
          "name": "stdout"
        }
      ]
    },
    {
      "metadata": {
        "id": "GgsfRGFN-3yc",
        "colab_type": "code",
        "colab": {
          "autoexec": {
            "startup": false,
            "wait_interval": 0
          },
          "base_uri": "https://localhost:8080/",
          "height": 1159
        },
        "outputId": "3ef4623d-3d74-4cea-8a07-61153dc15149",
        "executionInfo": {
          "status": "ok",
          "timestamp": 1532458364215,
          "user_tz": 240,
          "elapsed": 892,
          "user": {
            "displayName": "Thomas Possidente",
            "photoUrl": "https://lh3.googleusercontent.com/a/default-user=s128",
            "userId": "106075129304574823577"
          }
        }
      },
      "cell_type": "code",
      "source": [
        "# Convert into sequential\n",
        "seq_model = None\n",
        "seq_model = Sequential()\n",
        "for layer in model.layers:\n",
        "    seq_model.add( layer )\n",
        "seq_model.summary()\n",
        "\n",
        "for ii in range(0,1):\n",
        "    seq_model.pop()\n",
        "\n",
        "seq_model.summary()"
      ],
      "execution_count": 8,
      "outputs": [
        {
          "output_type": "stream",
          "text": [
            "_________________________________________________________________\n",
            "Layer (type)                 Output Shape              Param #   \n",
            "=================================================================\n",
            "block1_conv1 (Conv2D)        (None, 150, 150, 64)      1792      \n",
            "_________________________________________________________________\n",
            "block1_conv2 (Conv2D)        (None, 150, 150, 64)      36928     \n",
            "_________________________________________________________________\n",
            "block1_pool (MaxPooling2D)   (None, 75, 75, 64)        0         \n",
            "_________________________________________________________________\n",
            "block2_conv1 (Conv2D)        (None, 75, 75, 128)       73856     \n",
            "_________________________________________________________________\n",
            "block2_conv2 (Conv2D)        (None, 75, 75, 128)       147584    \n",
            "_________________________________________________________________\n",
            "block2_pool (MaxPooling2D)   (None, 37, 37, 128)       0         \n",
            "_________________________________________________________________\n",
            "block3_conv1 (Conv2D)        (None, 37, 37, 256)       295168    \n",
            "_________________________________________________________________\n",
            "block3_conv2 (Conv2D)        (None, 37, 37, 256)       590080    \n",
            "_________________________________________________________________\n",
            "block3_conv3 (Conv2D)        (None, 37, 37, 256)       590080    \n",
            "_________________________________________________________________\n",
            "block3_pool (MaxPooling2D)   (None, 18, 18, 256)       0         \n",
            "_________________________________________________________________\n",
            "block4_conv1 (Conv2D)        (None, 18, 18, 512)       1180160   \n",
            "_________________________________________________________________\n",
            "block4_conv2 (Conv2D)        (None, 18, 18, 512)       2359808   \n",
            "_________________________________________________________________\n",
            "block4_conv3 (Conv2D)        (None, 18, 18, 512)       2359808   \n",
            "_________________________________________________________________\n",
            "block4_pool (MaxPooling2D)   (None, 9, 9, 512)         0         \n",
            "=================================================================\n",
            "Total params: 7,635,264\n",
            "Trainable params: 7,635,264\n",
            "Non-trainable params: 0\n",
            "_________________________________________________________________\n",
            "_________________________________________________________________\n",
            "Layer (type)                 Output Shape              Param #   \n",
            "=================================================================\n",
            "block1_conv1 (Conv2D)        (None, 150, 150, 64)      1792      \n",
            "_________________________________________________________________\n",
            "block1_conv2 (Conv2D)        (None, 150, 150, 64)      36928     \n",
            "_________________________________________________________________\n",
            "block1_pool (MaxPooling2D)   (None, 75, 75, 64)        0         \n",
            "_________________________________________________________________\n",
            "block2_conv1 (Conv2D)        (None, 75, 75, 128)       73856     \n",
            "_________________________________________________________________\n",
            "block2_conv2 (Conv2D)        (None, 75, 75, 128)       147584    \n",
            "_________________________________________________________________\n",
            "block2_pool (MaxPooling2D)   (None, 37, 37, 128)       0         \n",
            "_________________________________________________________________\n",
            "block3_conv1 (Conv2D)        (None, 37, 37, 256)       295168    \n",
            "_________________________________________________________________\n",
            "block3_conv2 (Conv2D)        (None, 37, 37, 256)       590080    \n",
            "_________________________________________________________________\n",
            "block3_conv3 (Conv2D)        (None, 37, 37, 256)       590080    \n",
            "_________________________________________________________________\n",
            "block3_pool (MaxPooling2D)   (None, 18, 18, 256)       0         \n",
            "_________________________________________________________________\n",
            "block4_conv1 (Conv2D)        (None, 18, 18, 512)       1180160   \n",
            "_________________________________________________________________\n",
            "block4_conv2 (Conv2D)        (None, 18, 18, 512)       2359808   \n",
            "_________________________________________________________________\n",
            "block4_conv3 (Conv2D)        (None, 18, 18, 512)       2359808   \n",
            "=================================================================\n",
            "Total params: 7,635,264\n",
            "Trainable params: 7,635,264\n",
            "Non-trainable params: 0\n",
            "_________________________________________________________________\n"
          ],
          "name": "stdout"
        }
      ]
    },
    {
      "metadata": {
        "id": "hkqoOtvN-3yi",
        "colab_type": "text"
      },
      "cell_type": "markdown",
      "source": [
        "# Step 4\n",
        "Freeze the layers that remain in our model."
      ]
    },
    {
      "metadata": {
        "id": "QWiVwA-7-3yi",
        "colab_type": "code",
        "colab": {
          "autoexec": {
            "startup": false,
            "wait_interval": 0
          },
          "base_uri": "https://localhost:8080/",
          "height": 1193
        },
        "outputId": "caa9f8cb-61a4-4209-9625-2ee2e2592573",
        "executionInfo": {
          "status": "ok",
          "timestamp": 1532458366963,
          "user_tz": 240,
          "elapsed": 794,
          "user": {
            "displayName": "Thomas Possidente",
            "photoUrl": "https://lh3.googleusercontent.com/a/default-user=s128",
            "userId": "106075129304574823577"
          }
        }
      },
      "cell_type": "code",
      "source": [
        "for layer in seq_model.layers:\n",
        "    layer.trainable = False\n",
        "seq_model.summary()\n",
        "\n",
        "seq_model.add( Flatten(name=\"my_flatten\") )\n",
        "#seq_model.add( Dense(1024, activation=\"relu\", name=\"new_dense1\") )\n",
        "#seq_model.add( Dropout(0.5) )\n",
        "#seq_model.add( Dense(64, activation=\"relu\", name=\"new_dense2\") )\n",
        "seq_model.add( Dense(8, activation=\"relu\", name=\"predictions\") )\n",
        "\n",
        "seq_model.summary()"
      ],
      "execution_count": 9,
      "outputs": [
        {
          "output_type": "stream",
          "text": [
            "_________________________________________________________________\n",
            "Layer (type)                 Output Shape              Param #   \n",
            "=================================================================\n",
            "block1_conv1 (Conv2D)        (None, 150, 150, 64)      1792      \n",
            "_________________________________________________________________\n",
            "block1_conv2 (Conv2D)        (None, 150, 150, 64)      36928     \n",
            "_________________________________________________________________\n",
            "block1_pool (MaxPooling2D)   (None, 75, 75, 64)        0         \n",
            "_________________________________________________________________\n",
            "block2_conv1 (Conv2D)        (None, 75, 75, 128)       73856     \n",
            "_________________________________________________________________\n",
            "block2_conv2 (Conv2D)        (None, 75, 75, 128)       147584    \n",
            "_________________________________________________________________\n",
            "block2_pool (MaxPooling2D)   (None, 37, 37, 128)       0         \n",
            "_________________________________________________________________\n",
            "block3_conv1 (Conv2D)        (None, 37, 37, 256)       295168    \n",
            "_________________________________________________________________\n",
            "block3_conv2 (Conv2D)        (None, 37, 37, 256)       590080    \n",
            "_________________________________________________________________\n",
            "block3_conv3 (Conv2D)        (None, 37, 37, 256)       590080    \n",
            "_________________________________________________________________\n",
            "block3_pool (MaxPooling2D)   (None, 18, 18, 256)       0         \n",
            "_________________________________________________________________\n",
            "block4_conv1 (Conv2D)        (None, 18, 18, 512)       1180160   \n",
            "_________________________________________________________________\n",
            "block4_conv2 (Conv2D)        (None, 18, 18, 512)       2359808   \n",
            "_________________________________________________________________\n",
            "block4_conv3 (Conv2D)        (None, 18, 18, 512)       2359808   \n",
            "=================================================================\n",
            "Total params: 7,635,264\n",
            "Trainable params: 0\n",
            "Non-trainable params: 7,635,264\n",
            "_________________________________________________________________\n",
            "_________________________________________________________________\n",
            "Layer (type)                 Output Shape              Param #   \n",
            "=================================================================\n",
            "block1_conv1 (Conv2D)        (None, 150, 150, 64)      1792      \n",
            "_________________________________________________________________\n",
            "block1_conv2 (Conv2D)        (None, 150, 150, 64)      36928     \n",
            "_________________________________________________________________\n",
            "block1_pool (MaxPooling2D)   (None, 75, 75, 64)        0         \n",
            "_________________________________________________________________\n",
            "block2_conv1 (Conv2D)        (None, 75, 75, 128)       73856     \n",
            "_________________________________________________________________\n",
            "block2_conv2 (Conv2D)        (None, 75, 75, 128)       147584    \n",
            "_________________________________________________________________\n",
            "block2_pool (MaxPooling2D)   (None, 37, 37, 128)       0         \n",
            "_________________________________________________________________\n",
            "block3_conv1 (Conv2D)        (None, 37, 37, 256)       295168    \n",
            "_________________________________________________________________\n",
            "block3_conv2 (Conv2D)        (None, 37, 37, 256)       590080    \n",
            "_________________________________________________________________\n",
            "block3_conv3 (Conv2D)        (None, 37, 37, 256)       590080    \n",
            "_________________________________________________________________\n",
            "block3_pool (MaxPooling2D)   (None, 18, 18, 256)       0         \n",
            "_________________________________________________________________\n",
            "block4_conv1 (Conv2D)        (None, 18, 18, 512)       1180160   \n",
            "_________________________________________________________________\n",
            "block4_conv2 (Conv2D)        (None, 18, 18, 512)       2359808   \n",
            "_________________________________________________________________\n",
            "block4_conv3 (Conv2D)        (None, 18, 18, 512)       2359808   \n",
            "_________________________________________________________________\n",
            "my_flatten (Flatten)         (None, 165888)            0         \n",
            "_________________________________________________________________\n",
            "predictions (Dense)          (None, 8)                 1327112   \n",
            "=================================================================\n",
            "Total params: 8,962,376\n",
            "Trainable params: 1,327,112\n",
            "Non-trainable params: 7,635,264\n",
            "_________________________________________________________________\n"
          ],
          "name": "stdout"
        }
      ]
    },
    {
      "metadata": {
        "id": "uQDI5Thq-3yn",
        "colab_type": "code",
        "colab": {
          "autoexec": {
            "startup": false,
            "wait_interval": 0
          }
        }
      },
      "cell_type": "code",
      "source": [
        "seq_model.compile(optimizer='sgd', loss='categorical_crossentropy', metrics = ['accuracy'])"
      ],
      "execution_count": 0,
      "outputs": []
    },
    {
      "metadata": {
        "id": "TVRFOLnl-3yr",
        "colab_type": "code",
        "colab": {
          "autoexec": {
            "startup": false,
            "wait_interval": 0
          }
        }
      },
      "cell_type": "code",
      "source": [
        "train_labels = to_categorical(train_labels)\n",
        "test_labels = to_categorical(test_labels)"
      ],
      "execution_count": 0,
      "outputs": []
    },
    {
      "metadata": {
        "id": "zONGCaxU-3yt",
        "colab_type": "code",
        "colab": {
          "autoexec": {
            "startup": false,
            "wait_interval": 0
          },
          "base_uri": "https://localhost:8080/",
          "height": 1734
        },
        "outputId": "efd3ecb2-e24d-43e4-e6d2-ae4cc15c0c54",
        "executionInfo": {
          "status": "ok",
          "timestamp": 1532459528288,
          "user_tz": 240,
          "elapsed": 1111747,
          "user": {
            "displayName": "Thomas Possidente",
            "photoUrl": "https://lh3.googleusercontent.com/a/default-user=s128",
            "userId": "106075129304574823577"
          }
        }
      },
      "cell_type": "code",
      "source": [
        "y = seq_model.fit(train_images, train_labels, validation_data=(test_images, test_labels),\n",
        "                  batch_size=64, epochs=50, verbose=1)"
      ],
      "execution_count": 13,
      "outputs": [
        {
          "output_type": "stream",
          "text": [
            "Train on 4000 samples, validate on 1000 samples\n",
            "Epoch 1/50\n",
            "4000/4000 [==============================] - 25s 6ms/step - loss: 3.3348 - acc: 0.2885 - val_loss: 3.2225 - val_acc: 0.5120\n",
            "Epoch 2/50\n",
            "4000/4000 [==============================] - 22s 5ms/step - loss: 2.9779 - acc: 0.5660 - val_loss: 2.9947 - val_acc: 0.5650\n",
            "Epoch 3/50\n",
            "4000/4000 [==============================] - 22s 6ms/step - loss: 2.9329 - acc: 0.4103 - val_loss: 2.7983 - val_acc: 0.5120\n",
            "Epoch 4/50\n",
            "4000/4000 [==============================] - 22s 6ms/step - loss: 3.3968 - acc: 0.3535 - val_loss: 3.6540 - val_acc: 0.2610\n",
            "Epoch 5/50\n",
            "1088/4000 [=======>......................] - ETA: 12s - loss: 3.5454 - acc: 0.2270"
          ],
          "name": "stdout"
        },
        {
          "output_type": "stream",
          "text": [
            "4000/4000 [==============================] - 22s 6ms/step - loss: 3.5338 - acc: 0.2402 - val_loss: 3.5356 - val_acc: 0.2630\n",
            "Epoch 6/50\n",
            "4000/4000 [==============================] - 22s 6ms/step - loss: 3.4470 - acc: 0.2420 - val_loss: 3.4717 - val_acc: 0.2640\n",
            "Epoch 7/50\n",
            "4000/4000 [==============================] - 22s 6ms/step - loss: 3.3917 - acc: 0.2435 - val_loss: 3.4238 - val_acc: 0.2650\n",
            "Epoch 8/50\n",
            "4000/4000 [==============================] - 22s 6ms/step - loss: 3.3478 - acc: 0.2442 - val_loss: 3.3834 - val_acc: 0.2650\n",
            "Epoch 9/50\n",
            "2880/4000 [====================>.........] - ETA: 4s - loss: 3.3463 - acc: 0.2344"
          ],
          "name": "stdout"
        },
        {
          "output_type": "stream",
          "text": [
            "4000/4000 [==============================] - 22s 6ms/step - loss: 3.3096 - acc: 0.2445 - val_loss: 3.3469 - val_acc: 0.2650\n",
            "Epoch 10/50\n",
            "4000/4000 [==============================] - 22s 6ms/step - loss: 3.2751 - acc: 0.2447 - val_loss: 3.3134 - val_acc: 0.2650\n",
            "Epoch 11/50\n",
            "4000/4000 [==============================] - 22s 6ms/step - loss: 3.2427 - acc: 0.2452 - val_loss: 3.2812 - val_acc: 0.2650\n",
            "Epoch 12/50\n",
            "4000/4000 [==============================] - 22s 6ms/step - loss: 3.2114 - acc: 0.2452 - val_loss: 3.2494 - val_acc: 0.2680\n",
            "Epoch 13/50\n",
            "3072/4000 [======================>.......] - ETA: 4s - loss: 3.2735 - acc: 0.2503"
          ],
          "name": "stdout"
        },
        {
          "output_type": "stream",
          "text": [
            "4000/4000 [==============================] - 22s 6ms/step - loss: 3.1808 - acc: 0.2470 - val_loss: 3.2197 - val_acc: 0.2740\n",
            "Epoch 14/50\n",
            "4000/4000 [==============================] - 22s 6ms/step - loss: 3.1534 - acc: 0.2542 - val_loss: 3.1942 - val_acc: 0.2820\n",
            "Epoch 15/50\n",
            "4000/4000 [==============================] - 22s 6ms/step - loss: 1.8684 - acc: 0.2632 - val_loss: 1.4687 - val_acc: 0.2930\n",
            "Epoch 16/50\n",
            "4000/4000 [==============================] - 22s 6ms/step - loss: 1.4663 - acc: 0.2780 - val_loss: 1.4237 - val_acc: 0.3040\n",
            "Epoch 17/50\n",
            "3072/4000 [======================>.......] - ETA: 4s - loss: 1.4290 - acc: 0.2923"
          ],
          "name": "stdout"
        },
        {
          "output_type": "stream",
          "text": [
            "4000/4000 [==============================] - 22s 6ms/step - loss: 1.4274 - acc: 0.2935 - val_loss: 1.3871 - val_acc: 0.3200\n",
            "Epoch 18/50\n",
            "4000/4000 [==============================] - 22s 6ms/step - loss: 1.3920 - acc: 0.3095 - val_loss: 1.3514 - val_acc: 0.3470\n",
            "Epoch 19/50\n",
            "4000/4000 [==============================] - 22s 6ms/step - loss: 1.3560 - acc: 0.3270 - val_loss: 1.3146 - val_acc: 0.3640\n",
            "Epoch 20/50\n",
            "4000/4000 [==============================] - 22s 6ms/step - loss: 1.3175 - acc: 0.3498 - val_loss: 1.2751 - val_acc: 0.3840\n",
            "Epoch 21/50\n",
            "3072/4000 [======================>.......] - ETA: 4s - loss: 1.2725 - acc: 0.3818"
          ],
          "name": "stdout"
        },
        {
          "output_type": "stream",
          "text": [
            "4000/4000 [==============================] - 22s 6ms/step - loss: 1.2754 - acc: 0.3790 - val_loss: 1.2314 - val_acc: 0.4170\n",
            "Epoch 22/50\n",
            "4000/4000 [==============================] - 22s 6ms/step - loss: 1.2270 - acc: 0.4143 - val_loss: 1.1811 - val_acc: 0.4510\n",
            "Epoch 23/50\n",
            "4000/4000 [==============================] - 22s 6ms/step - loss: 1.1693 - acc: 0.4602 - val_loss: 1.1202 - val_acc: 0.5090\n",
            "Epoch 24/50\n",
            "4000/4000 [==============================] - 22s 6ms/step - loss: 1.0938 - acc: 0.5300 - val_loss: 1.0495 - val_acc: 0.5690\n",
            "Epoch 25/50\n",
            "3072/4000 [======================>.......] - ETA: 4s - loss: 0.9979 - acc: 0.6035"
          ],
          "name": "stdout"
        },
        {
          "output_type": "stream",
          "text": [
            "4000/4000 [==============================] - 22s 6ms/step - loss: 0.9798 - acc: 0.6110 - val_loss: 0.9312 - val_acc: 0.6520\n",
            "Epoch 26/50\n",
            "4000/4000 [==============================] - 22s 6ms/step - loss: 0.8509 - acc: 0.6733 - val_loss: 0.8159 - val_acc: 0.6930\n",
            "Epoch 27/50\n",
            "4000/4000 [==============================] - 22s 6ms/step - loss: 0.8074 - acc: 0.6613 - val_loss: 0.8573 - val_acc: 0.6590\n",
            "Epoch 28/50\n",
            "4000/4000 [==============================] - 22s 6ms/step - loss: 0.7213 - acc: 0.7122 - val_loss: 0.9197 - val_acc: 0.7160\n",
            "Epoch 29/50\n",
            "3072/4000 [======================>.......] - ETA: 4s - loss: 0.6829 - acc: 0.7682"
          ],
          "name": "stdout"
        },
        {
          "output_type": "stream",
          "text": [
            "4000/4000 [==============================] - 22s 6ms/step - loss: 0.6985 - acc: 0.7740 - val_loss: 1.1818 - val_acc: 0.7600\n",
            "Epoch 30/50\n",
            "4000/4000 [==============================] - 22s 6ms/step - loss: 0.7042 - acc: 0.8060 - val_loss: 1.2259 - val_acc: 0.7630\n",
            "Epoch 31/50\n",
            "4000/4000 [==============================] - 22s 6ms/step - loss: 0.6052 - acc: 0.8197 - val_loss: 1.4639 - val_acc: 0.7450\n",
            "Epoch 32/50\n",
            "4000/4000 [==============================] - 22s 6ms/step - loss: 0.5950 - acc: 0.8195 - val_loss: 1.1212 - val_acc: 0.7470\n",
            "Epoch 33/50\n",
            "3072/4000 [======================>.......] - ETA: 4s - loss: 1.1243 - acc: 0.6107"
          ],
          "name": "stdout"
        },
        {
          "output_type": "stream",
          "text": [
            "4000/4000 [==============================] - 22s 6ms/step - loss: 1.4177 - acc: 0.4952 - val_loss: 2.3082 - val_acc: 0.1190\n",
            "Epoch 34/50\n",
            "4000/4000 [==============================] - 22s 6ms/step - loss: 2.1323 - acc: 0.1298 - val_loss: 2.0650 - val_acc: 0.1270\n",
            "Epoch 35/50\n",
            "4000/4000 [==============================] - 22s 6ms/step - loss: 1.9956 - acc: 0.1430 - val_loss: 1.9630 - val_acc: 0.1460\n",
            "Epoch 36/50\n",
            "4000/4000 [==============================] - 22s 6ms/step - loss: 1.9204 - acc: 0.1618 - val_loss: 1.8968 - val_acc: 0.1730\n",
            "Epoch 37/50\n",
            "3072/4000 [======================>.......] - ETA: 4s - loss: 1.8712 - acc: 0.1794"
          ],
          "name": "stdout"
        },
        {
          "output_type": "stream",
          "text": [
            "4000/4000 [==============================] - 22s 6ms/step - loss: 1.8648 - acc: 0.1822 - val_loss: 1.8470 - val_acc: 0.2010\n",
            "Epoch 38/50\n",
            "4000/4000 [==============================] - 22s 6ms/step - loss: 1.8234 - acc: 0.2013 - val_loss: 1.8064 - val_acc: 0.2260\n",
            "Epoch 39/50\n",
            "4000/4000 [==============================] - 22s 6ms/step - loss: 1.7889 - acc: 0.2165 - val_loss: 1.7715 - val_acc: 0.2430\n",
            "Epoch 40/50\n",
            "4000/4000 [==============================] - 22s 6ms/step - loss: 1.7589 - acc: 0.2243 - val_loss: 1.7410 - val_acc: 0.2510\n",
            "Epoch 41/50\n",
            "3072/4000 [======================>.......] - ETA: 4s - loss: 1.7314 - acc: 0.2314"
          ],
          "name": "stdout"
        },
        {
          "output_type": "stream",
          "text": [
            "4000/4000 [==============================] - 22s 6ms/step - loss: 1.7330 - acc: 0.2308 - val_loss: 1.7148 - val_acc: 0.2570\n",
            "Epoch 42/50\n",
            "4000/4000 [==============================] - 22s 6ms/step - loss: 1.7104 - acc: 0.2357 - val_loss: 1.6918 - val_acc: 0.2610\n",
            "Epoch 43/50\n",
            "4000/4000 [==============================] - 22s 6ms/step - loss: 1.6901 - acc: 0.2380 - val_loss: 1.6708 - val_acc: 0.2620\n",
            "Epoch 44/50\n",
            "4000/4000 [==============================] - 22s 6ms/step - loss: 1.6713 - acc: 0.2400 - val_loss: 1.6510 - val_acc: 0.2630\n",
            "Epoch 45/50\n",
            "3072/4000 [======================>.......] - ETA: 4s - loss: 1.6463 - acc: 0.2451"
          ],
          "name": "stdout"
        },
        {
          "output_type": "stream",
          "text": [
            "4000/4000 [==============================] - 22s 6ms/step - loss: 1.6534 - acc: 0.2415 - val_loss: 1.6321 - val_acc: 0.2640\n",
            "Epoch 46/50\n",
            "4000/4000 [==============================] - 22s 6ms/step - loss: 1.6362 - acc: 0.2422 - val_loss: 1.6138 - val_acc: 0.2640\n",
            "Epoch 47/50\n",
            "4000/4000 [==============================] - 22s 6ms/step - loss: 1.6195 - acc: 0.2435 - val_loss: 1.5960 - val_acc: 0.2660\n",
            "Epoch 48/50\n",
            "4000/4000 [==============================] - 22s 6ms/step - loss: 1.6031 - acc: 0.2442 - val_loss: 1.5782 - val_acc: 0.2680\n",
            "Epoch 49/50\n",
            "3072/4000 [======================>.......] - ETA: 4s - loss: 1.5897 - acc: 0.2454"
          ],
          "name": "stdout"
        },
        {
          "output_type": "stream",
          "text": [
            "4000/4000 [==============================] - 22s 6ms/step - loss: 1.5868 - acc: 0.2462 - val_loss: 1.5606 - val_acc: 0.2700\n",
            "Epoch 50/50\n",
            "4000/4000 [==============================] - 22s 6ms/step - loss: 1.5712 - acc: 0.2492 - val_loss: 1.5443 - val_acc: 0.2730\n"
          ],
          "name": "stdout"
        }
      ]
    },
    {
      "metadata": {
        "id": "sL_rAFxKpGqi",
        "colab_type": "code",
        "colab": {
          "autoexec": {
            "startup": false,
            "wait_interval": 0
          },
          "base_uri": "https://localhost:8080/",
          "height": 752
        },
        "outputId": "22b3fc7f-52b0-4d21-c866-4394b5fa27b8",
        "executionInfo": {
          "status": "ok",
          "timestamp": 1532459691082,
          "user_tz": 240,
          "elapsed": 1059,
          "user": {
            "displayName": "Thomas Possidente",
            "photoUrl": "https://lh3.googleusercontent.com/a/default-user=s128",
            "userId": "106075129304574823577"
          }
        }
      },
      "cell_type": "code",
      "source": [
        "print(y.history.keys())\n",
        "# summarize history for accuracy\n",
        "plt.plot(y.history['acc'])\n",
        "plt.plot(y.history['val_acc'])\n",
        "plt.title('model accuracy')\n",
        "plt.ylabel('accuracy')\n",
        "plt.xlabel('epoch')\n",
        "plt.legend(['train', 'test'], loc='upper left')\n",
        "plt.show()\n",
        "# summarize history for loss\n",
        "plt.plot(y.history['loss'])\n",
        "plt.plot(y.history['val_loss'])\n",
        "plt.title('model loss')\n",
        "plt.ylabel('loss')\n",
        "plt.xlabel('epoch')\n",
        "plt.legend(['train', 'test'], loc='upper left')\n",
        "plt.show()"
      ],
      "execution_count": 14,
      "outputs": [
        {
          "output_type": "stream",
          "text": [
            "['acc', 'loss', 'val_acc', 'val_loss']\n"
          ],
          "name": "stdout"
        },
        {
          "output_type": "display_data",
          "data": {
            "image/png": "[encoded data removed]",
            "text/plain": [
              "<matplotlib.figure.Figure at 0x7f89a7b8c1d0>"
            ]
          },
          "metadata": {
            "tags": []
          }
        },
        {
          "output_type": "display_data",
          "data": {
            "image/png": "[encoded data removed]",
            "text/plain": [
              "<matplotlib.figure.Figure at 0x7f89a7b15f10>"
            ]
          },
          "metadata": {
            "tags": []
          }
        }
      ]
    },
    {
      "metadata": {
        "id": "BMXtb6F_-3yx",
        "colab_type": "code",
        "colab": {
          "autoexec": {
            "startup": false,
            "wait_interval": 0
          }
        }
      },
      "cell_type": "code",
      "source": [
        "# convert images to LAB space and normalize\n",
        "\n",
        "lab_train = np.zeros((ntrain, 224, 224, 3))\n",
        "ii = 0\n",
        "for im in train_images:\n",
        "    lab_train[ii,::] = rgb2lab(im)\n",
        "    ii = ii + 1\n",
        "    # normalize ?"
      ],
      "execution_count": 0,
      "outputs": []
    },
    {
      "metadata": {
        "id": "hfUjXgKm-3y1",
        "colab_type": "code",
        "colab": {
          "autoexec": {
            "startup": false,
            "wait_interval": 0
          }
        }
      },
      "cell_type": "code",
      "source": [
        "k = 1000\n",
        "plt.figure(figsize=(40,20))\n",
        "plt.subplot(2,4,1)\n",
        "plt.imshow(train_images[k,::])\n",
        "plt.axis('off')\n",
        "for ii in range(0,3):\n",
        "    plt.subplot(2,4,ii+2)\n",
        "    plt.imshow(lab_train[k,:,:,ii])\n",
        "    plt.gray()\n",
        "    plt.axis('off')\n",
        "im = train_images[k,::]\n",
        "hsvim = rgb2hsv(im)\n",
        "plt.subplot(2,4,6)\n",
        "plt.imshow(hsvim[:,:,0])\n",
        "plt.axis('off')\n",
        "plt.subplot(2,4,7)\n",
        "plt.imshow(hsvim[:,:,1])\n",
        "plt.axis('off')\n",
        "plt.subplot(2,4,8)\n",
        "plt.imshow(hsvim[:,:,2])\n",
        "plt.axis('off')\n",
        "plt.show()"
      ],
      "execution_count": 0,
      "outputs": []
    },
    {
      "metadata": {
        "id": "sFJheF6w-3y7",
        "colab_type": "code",
        "colab": {
          "autoexec": {
            "startup": false,
            "wait_interval": 0
          }
        }
      },
      "cell_type": "code",
      "source": [
        ""
      ],
      "execution_count": 0,
      "outputs": []
    }
  ]
}