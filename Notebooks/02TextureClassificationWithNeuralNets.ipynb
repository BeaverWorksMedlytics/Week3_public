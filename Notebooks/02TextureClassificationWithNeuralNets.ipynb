{
 "cells": [
  {
   "cell_type": "markdown",
   "metadata": {
    "colab_type": "text",
    "id": "PBk7hgRJ4hRE"
   },
   "source": [
    "# Tissue Classification using Neural Networks\n",
    "In this lab we will explore the use of texture in images and traditional machine learning approaches such as clustering. The dataset we will be using is available here: http://dx.doi.org/10.5281/zenodo.53169. \n",
    "\n",
    "![alt text](https://www.researchgate.net/profile/Jakob_Kather/publication/303998214/figure/fig7/AS:391073710002224@1470250646407/Representative-images-from-our-dataset-Here-the-first-10-images-of-every-tissue-class.png)\n",
    "\n",
    "The above figure shows the 8 different classes of tissue we will be trying to identify. "
   ]
  },
  {
   "cell_type": "code",
   "execution_count": 0,
   "metadata": {
    "colab": {
     "autoexec": {
      "startup": false,
      "wait_interval": 0
     }
    },
    "colab_type": "code",
    "id": "j9HUVMyJ4hRG"
   },
   "outputs": [],
   "source": [
    "# Imports\n",
    "from __future__ import print_function\n",
    "import os\n",
    "import numpy as np\n",
    "import matplotlib.pylab as plt\n",
    "from sklearn.model_selection import train_test_split\n",
    "from tensorflow.keras import Sequential\n",
    "from tensorflow.keras.layers import Dense\n",
    "from tensorflow.keras.optimizers import SGD\n",
    "from tensorflow.keras.utils import to_categorical"
   ]
  },
  {
   "cell_type": "markdown",
   "metadata": {
    "colab_type": "text",
    "id": "0rWqAlD84hRN"
   },
   "source": [
    "## Step 1\n",
    "* Load the data (done for you)\n",
    " * The \"data\" variable stores 5000 images of shape 150x150. This means data has shape (5000, 150, 150). These images are loaded here as grayscale.\n",
    " * The \"labels\" variable stores 5000 labels (0-7). This means \"labels\" has shape (5000,)\n",
    "* Split data into training and testing subsets (left up to you)\n",
    " * Check out the sklearn function train_test_split from sklearn.model_selection"
   ]
  },
  {
   "cell_type": "code",
   "execution_count": 6,
   "metadata": {
    "colab": {
     "autoexec": {
      "startup": false,
      "wait_interval": 0
     },
     "base_uri": "https://localhost:8080/",
     "height": 101
    },
    "colab_type": "code",
    "executionInfo": {
     "elapsed": 23059,
     "status": "ok",
     "timestamp": 1532352156817,
     "user": {
      "displayName": "Thomas Possidente",
      "photoUrl": "https://lh3.googleusercontent.com/a/default-user=s128",
      "userId": "106075129304574823577"
     },
     "user_tz": 240
    },
    "id": "mJo-Fc6A4hRP",
    "outputId": "b56f27c4-c5dd-4d33-e753-0610c93290b5"
   },
   "outputs": [
    {
     "name": "stdout",
     "output_type": "stream",
     "text": [
      "Cloning into 'Week3_public'...\n",
      "remote: Counting objects: 25, done.\u001b[K\n",
      "remote: Compressing objects: 100% (20/20), done.\u001b[K\n",
      "remote: Total 25 (delta 3), reused 18 (delta 2), pack-reused 0\u001b[K\n",
      "Unpacking objects: 100% (25/25), done.\n"
     ]
    }
   ],
   "source": [
    "! git clone https://github.com/BeaverWorksMedlytics/Week3_public.git\n",
    "\n",
    "# Build the path to the data folder. No need to change directories\n",
    "# There are a total of 6 files you will have to load\n",
    "data_dir = os.path.join( os.getcwd(), 'Week3_public', 'data', 'crc')"
   ]
  },
  {
   "cell_type": "code",
   "execution_count": 0,
   "metadata": {
    "colab": {
     "autoexec": {
      "startup": false,
      "wait_interval": 0
     }
    },
    "colab_type": "code",
    "id": "HKTScej54hRU"
   },
   "outputs": [],
   "source": [
    "# Load data and split into training, testing sets\n",
    "y = np.load(os.path.join(data_dir, 'rgb01.npz'))\n",
    "labels = y['labels']\n",
    "data = y['rgb_data']\n",
    "data = data[:,:,:,0]\n",
    "label_str = y['label_str']\n",
    "label_str = label_str.tolist() # this is to convert label_str back to a dictionary\n",
    "y = []\n",
    "\n",
    "print(data.shape)\n",
    "for ii in range(2,6):\n",
    "    filename = os.path.join(data_dir, 'rgb0' + str(ii) + '.npz')\n",
    "    print('loading ', filename)\n",
    "    y = np.load(filename)\n",
    "    labels = np.append(labels, y['labels'], axis=0)\n",
    "    data = np.append(data, y['rgb_data'][:,:,:,0], axis=0)\n",
    "    print(data.shape)\n",
    "    y = []\n",
    "\n",
    "\n",
    "print( data.shape )\n",
    "print( labels.shape )"
   ]
  },
  {
   "cell_type": "code",
   "execution_count": 0,
   "metadata": {
    "colab": {
     "autoexec": {
      "startup": false,
      "wait_interval": 0
     }
    },
    "colab_type": "code",
    "id": "k55a7z6L4hRW"
   },
   "outputs": [],
   "source": [
    "num_images, nrows, ncols = data.shape\n",
    "\n",
    "# split into training and testing sets\n",
    "\n",
    "# convert the labels from 1-D arrays to categorical type \n"
   ]
  },
  {
   "cell_type": "markdown",
   "metadata": {
    "colab_type": "text",
    "id": "955WO4HE4hRZ"
   },
   "source": [
    "## Normalize and Reshape Data\n",
    "All images should be normalized to the range 0-1 by dividing by 255.\n",
    "\n",
    "Additionally, because this is a ANN, not a CNN, we need to reshape the data to be one dimensional. In training and test data, colapse the row and column dimensions into one dimension using reshape().\n",
    "#### Note\n",
    "* Using the La\\*b colorspace : If you convert your images to the La\\*b colorspace, the scaling factor will change. Each channel in this colorspace will have a different range and normalization of each space will involve scaling each channel separately. Additionally, the a\\* channel can have a negative range. This also needs to be taken into account. \n",
    "* Using the HSV/HSI colorspace : Similar considerations apply if you are using the HSV/HSI colorspace. The only difference is that the HSV/HSI colorspace will have all positive values."
   ]
  },
  {
   "cell_type": "code",
   "execution_count": 0,
   "metadata": {
    "colab": {
     "autoexec": {
      "startup": false,
      "wait_interval": 0
     }
    },
    "colab_type": "code",
    "id": "eWkDphoh4hRa"
   },
   "outputs": [],
   "source": [
    "# Assuming we are using the RGB colorspace\n",
    "# Normalize all images so that they are 0-1\n",
    "\n",
    "\n",
    "# Reshape the data \n"
   ]
  },
  {
   "cell_type": "markdown",
   "metadata": {
    "colab_type": "text",
    "id": "zPC7bjF74hRc"
   },
   "source": [
    "## Step 2\n",
    "At this point, the data has been split into training and testing sets and normalized. We will now design a fully connected neural network for texture classification. \n",
    "\n",
    "<img src=\"http://cs231n.github.io/assets/nn1/neural_net2.jpeg\" width=\"50%\"></img>\n",
    "\n",
    "( Image from http://cs231n.github.io/convolutional-networks/ )\n",
    "\n",
    "When designing a fully connected network for classification, we have several decisions to make.\n",
    "\n",
    "**Network Architecuture**\n",
    "* How many layers will our network have ?\n",
    "* How many neurons per layer ?\n",
    "* What is an appropriate batch size, learning rate and number of training epochs ?\n",
    "\n",
    "**Data input**\n",
    "* Do we use the raw data ?\n",
    "    * RGB or just gray channel ?\n",
    "* Does the use of different colorspaces lead to better results for a given network architecture ?\n",
    "* Can we use any of the texture features from the previous lab as inputs to this model ?\n",
    "* How does data augmentation affect the results ? \n",
    "\n",
    "Other considerations, we will not be exploring :\n",
    "* What is the trade-off between input data sizes and batch size ?\n",
    "* Is the GPU always the appropriate platform for training ?\n",
    "* How does hardware influence inputs and batch sizes for a given desired accuracy ?"
   ]
  },
  {
   "cell_type": "code",
   "execution_count": 0,
   "metadata": {
    "colab": {
     "autoexec": {
      "startup": false,
      "wait_interval": 0
     }
    },
    "colab_type": "code",
    "id": "rm8iHsFF4hRd"
   },
   "outputs": [],
   "source": [
    "# Define the data shapes based on your decision to use rgb or grayscale or other colorpsaces or texture features or \n",
    "# some combination of these inputs\n",
    "num_classes = 8 \n",
    "input_shape = nrows*ncols"
   ]
  },
  {
   "cell_type": "markdown",
   "metadata": {
    "colab_type": "text",
    "id": "q4Q3AADK4hRg"
   },
   "source": [
    "## Step 3\n",
    "Design your network here using Keras"
   ]
  },
  {
   "cell_type": "code",
   "execution_count": 0,
   "metadata": {
    "colab": {
     "autoexec": {
      "startup": false,
      "wait_interval": 0
     }
    },
    "colab_type": "code",
    "id": "18Mpluyc4hRg"
   },
   "outputs": [],
   "source": [
    "# Create your network\n",
    "model = []\n",
    "model = Sequential()\n",
    "\n",
    "# Add input layer\n",
    "\n",
    "# Add fully connected layers \n",
    "# See Dense : https://keras.io/layers/core/#dense\n",
    "\n",
    "# Add final output layer - This should have as many neurons as the number\n",
    "# of classes we are trying to identify\n",
    "model.add( )\n",
    "\n",
    "model.summary()\n"
   ]
  },
  {
   "cell_type": "markdown",
   "metadata": {
    "colab_type": "text",
    "id": "Jzt0c71-4hRj"
   },
   "source": [
    "## Step 4\n",
    "Compile the model you designed. Compiltation of the Keras model results in the initialization of model weights and sets other model properties."
   ]
  },
  {
   "cell_type": "code",
   "execution_count": 0,
   "metadata": {
    "colab": {
     "autoexec": {
      "startup": false,
      "wait_interval": 0
     }
    },
    "colab_type": "code",
    "id": "Utkn9Tqc4hRk"
   },
   "outputs": [],
   "source": [
    "model.compile(???)"
   ]
  },
  {
   "cell_type": "markdown",
   "metadata": {
    "colab_type": "text",
    "id": "hMXqy9jM4hRn"
   },
   "source": [
    "## Step 5\n",
    "Train model"
   ]
  },
  {
   "cell_type": "code",
   "execution_count": 0,
   "metadata": {
    "colab": {
     "autoexec": {
      "startup": false,
      "wait_interval": 0
     }
    },
    "colab_type": "code",
    "id": "o0s4RNTs4hRo"
   },
   "outputs": [],
   "source": [
    "y = model.fit(???)"
   ]
  },
  {
   "cell_type": "markdown",
   "metadata": {
    "colab_type": "text",
    "id": "Jd9MGDK94hRr"
   },
   "source": [
    "## Step 6\n",
    "See how your model performs by uisng it for inference.\n",
    "* What is the accuracy of classification ?\n",
    "* Change your model, re-compile and test. Can you improve the accuracy of the model ?\n"
   ]
  },
  {
   "cell_type": "code",
   "execution_count": 0,
   "metadata": {
    "colab": {
     "autoexec": {
      "startup": false,
      "wait_interval": 0
     }
    },
    "colab_type": "code",
    "id": "KyAeLkGo4hRt"
   },
   "outputs": [],
   "source": [
    "# predict labels - use the test set for prediction\n",
    "pred_labels = model.predict(???)"
   ]
  },
  {
   "cell_type": "code",
   "execution_count": 0,
   "metadata": {
    "colab": {
     "autoexec": {
      "startup": false,
      "wait_interval": 0
     }
    },
    "colab_type": "code",
    "id": "TJEhLJKx4hRv"
   },
   "outputs": [],
   "source": [
    "from sklearn.metrics import accuracy_score\n",
    "from sklearn.metrics import confusion_matrix\n",
    "\n",
    "# We need to convert the categorical array test_labels and pred_labels into a vector\n",
    "# in order to use it in the calculation of the confusion matrix (i.e. convert from one-hot to integers)\n",
    "mat = confusion_matrix(np.argmax(test_labels, axis=1), pred_labels)\n",
    "acc = accuracy_score(np.argmax(test_labels, axis=1), np.argmax(pred_labels, axis=1))\n",
    "print(acc)\n",
    "print(mat)"
   ]
  },
  {
   "cell_type": "code",
   "execution_count": 0,
   "metadata": {
    "colab": {
     "autoexec": {
      "startup": false,
      "wait_interval": 0
     }
    },
    "colab_type": "code",
    "id": "Em2WIdYb4hRx"
   },
   "outputs": [],
   "source": [
    "plt.figure(figsize=(8,6))\n",
    "plt.imshow(mat, cmap='hot', interpolation='nearest')\n",
    "plt.grid(False)\n",
    "plt.colorbar()\n",
    "plt.xlabel('true label')\n",
    "plt.ylabel('predicted label')\n",
    "plt.show()"
   ]
  },
  {
   "cell_type": "markdown",
   "metadata": {
    "colab_type": "text",
    "id": "GTaVC3IX4hR1"
   },
   "source": [
    "## Assignment\n",
    "* In Step 3 design your own network\n",
    "* Does the model perform better if you use all three RGB channels ?\n",
    "* How does the performance change when using the La*b colorspace ?\n"
   ]
  },
  {
   "cell_type": "code",
   "execution_count": 7,
   "metadata": {
    "colab": {
     "autoexec": {
      "startup": false,
      "wait_interval": 0
     },
     "base_uri": "https://localhost:8080/",
     "height": 202
    },
    "colab_type": "code",
    "executionInfo": {
     "elapsed": 19851,
     "status": "ok",
     "timestamp": 1532357624409,
     "user": {
      "displayName": "Thomas Possidente",
      "photoUrl": "https://lh3.googleusercontent.com/a/default-user=s128",
      "userId": "106075129304574823577"
     },
     "user_tz": 240
    },
    "id": "GAPOBem8kKPG",
    "outputId": "4ac22c52-d289-4413-93b3-c5e3f2c715b0"
   },
   "outputs": [
    {
     "name": "stdout",
     "output_type": "stream",
     "text": [
      "(1000, 150, 150, 3)\n",
      "loading  /content/Week3_public/data/crc/rgb02.npz\n",
      "(135000000,)\n",
      "loading  /content/Week3_public/data/crc/rgb03.npz\n",
      "(202500000,)\n",
      "loading  /content/Week3_public/data/crc/rgb04.npz\n",
      "(270000000,)\n",
      "loading  /content/Week3_public/data/crc/rgb05.npz\n",
      "(337500000,)\n",
      "(5000, 150, 150, 3)\n",
      "(5000,)\n"
     ]
    }
   ],
   "source": [
    "\n",
    "# Load data as RGB\n",
    "y = np.load(os.path.join(data_dir, 'rgb01.npz'))\n",
    "labels = y['labels']\n",
    "data_rgb = y['rgb_data']\n",
    "label_str = y['label_str']\n",
    "label_str = label_str.tolist() # this is to convert label_str back to a dictionary\n",
    "y = []\n",
    "\n",
    "print(data_rgb.shape)\n",
    "for ii in range(2,6):\n",
    "    filename = os.path.join(data_dir, 'rgb0' + str(ii) + '.npz')\n",
    "    print('loading ', filename)\n",
    "    y = np.load(filename)\n",
    "    labels = np.append(labels, y['labels'], axis=0)\n",
    "    data_rgb = np.append(data_rgb, y['rgb_data'])\n",
    "    print(data_rgb.shape)\n",
    "    y = []\n",
    "\n",
    "data_rgb = data_rgb.astype('float')\n",
    "data_rgb = data_rgb.reshape(5000, 150, 150, 3)\n",
    "\n",
    "print( data_rgb.shape )\n",
    "print( labels.shape )\n",
    "\n",
    "num_images, nrows, ncols, dims = data_rgb.shape"
   ]
  },
  {
   "cell_type": "code",
   "execution_count": 0,
   "metadata": {
    "colab": {
     "autoexec": {
      "startup": false,
      "wait_interval": 0
     }
    },
    "colab_type": "code",
    "id": "7kI1rNVCoWMt"
   },
   "outputs": [],
   "source": []
  }
 ],
 "metadata": {
  "colab": {
   "collapsed_sections": [],
   "default_view": {},
   "name": "02TextureClassificationWithNeuralNets.ipynb",
   "provenance": [],
   "version": "0.3.2",
   "views": {}
  },
  "kernelspec": {
   "display_name": "Python 2",
   "language": "python",
   "name": "python2"
  },
  "language_info": {
   "codemirror_mode": {
    "name": "ipython",
    "version": 2
   },
   "file_extension": ".py",
   "mimetype": "text/x-python",
   "name": "python",
   "nbconvert_exporter": "python",
   "pygments_lexer": "ipython2",
   "version": "2.7.15"
  }
 },
 "nbformat": 4,
 "nbformat_minor": 1
}
