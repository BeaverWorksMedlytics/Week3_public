{
 "cells": [
  {
   "cell_type": "markdown",
   "metadata": {},
   "source": [
    "# Tissue Classification using Neural Networks\n",
    "In this lab we will explore the use of texture in images and traditional machine learning approaches such as clustering. The dataset we will be using is available here: http://dx.doi.org/10.5281/zenodo.53169. \n",
    "\n",
    "![alt text](https://www.researchgate.net/profile/Jakob_Kather/publication/303998214/figure/fig7/AS:391073710002224@1470250646407/Representative-images-from-our-dataset-Here-the-first-10-images-of-every-tissue-class.png)\n",
    "\n",
    "The above figure shows the 8 different classes of tissue we will be trying to identify. "
   ]
  },
  {
   "cell_type": "code",
   "execution_count": null,
   "metadata": {},
   "outputs": [],
   "source": [
    "# Imports\n",
    "from __future__ import print_function\n",
    "import os\n",
    "import numpy as np\n",
    "import matplotlib.pylab as plt\n",
    "from sklearn.model_selection import train_test_split\n",
    "from tensorflow.keras import Sequential\n",
    "from tensorflow.keras.layers import Dense\n",
    "from tensorflow.keras.optimizers import SGD\n",
    "from tensorflow.keras.utils import to_categorical"
   ]
  },
  {
   "cell_type": "markdown",
   "metadata": {},
   "source": [
    "## Step 1\n",
    "* Load the data (done for you)\n",
    " * The \"data\" variable stores 5000 images of shape 150x150. This means data has shape (5000, 150, 150). These images are loaded here as grayscale.\n",
    " * The \"labels\" variable stores 5000 labels (0-7). This means \"labels\" has shape (5000,)\n",
    "* Split data into training and testing subsets (left up to you)\n",
    " * Check out the sklearn function train_test_split from sklearn.model_selection"
   ]
  },
  {
   "cell_type": "code",
   "execution_count": null,
   "metadata": {},
   "outputs": [],
   "source": [
    "! git clone https://github.com/BeaverWorksMedlytics/Week3_public.git\n",
    "\n",
    "# Build the path to the data folder. No need to change directories\n",
    "# There are a total of 6 files you will have to load\n",
    "data_dir = os.path.join( os.getcwd(), 'Week3_public', 'data', 'crc')"
   ]
  },
  {
   "cell_type": "code",
   "execution_count": null,
   "metadata": {},
   "outputs": [],
   "source": [
    "# Load data and split into training, testing sets\n",
    "y = np.load(os.path.join(data_dir, 'rgb01.npz'))\n",
    "labels = y['labels']\n",
    "data = y['rgb_data']\n",
    "data = data[:,:,:,0]\n",
    "label_str = y['label_str']\n",
    "label_str = label_str.tolist() # this is to convert label_str back to a dictionary\n",
    "y = []\n",
    "\n",
    "print(data.shape)\n",
    "for ii in range(2,6):\n",
    "    filename = os.path.join(data_dir, 'rgb0' + str(ii) + '.npz')\n",
    "    print('loading ', filename)\n",
    "    y = np.load(filename)\n",
    "    labels = np.append(labels, y['labels'], axis=0)\n",
    "    data = np.append(data, y['rgb_data'][:,:,:,0], axis=0)\n",
    "    print(data.shape)\n",
    "    y = []\n",
    "\n",
    "\n",
    "print( data.shape )\n",
    "print( labels.shape )"
   ]
  },
  {
   "cell_type": "code",
   "execution_count": null,
   "metadata": {},
   "outputs": [],
   "source": [
    "num_images, nrows, ncols = data.shape\n",
    "\n",
    "# split into training and testing sets\n",
    "\n",
    "# convert the labels from 1-D arrays to categorical type \n"
   ]
  },
  {
   "cell_type": "markdown",
   "metadata": {},
   "source": [
    "## Normalize data\n",
    "All images should be normalized to the range 0-1 by dividing by 255.\n",
    "\n",
    "#### Note\n",
    "* Using the La\\*b colorspace : If you convert your images to the La\\*b colorspace, the scaling factor will change. Each channel in this colorspace will have a different range and normalization of each space will involve scaling each channel separately. Additionally, the a\\* channel can have a negative range. This also needs to be taken into account. \n",
    "* Using the HSV/HSI colorspace : Similar considerations apply if you are using the HSV/HSI colorspace. The only difference is that the HSV/HSI colorspace will have all positive values."
   ]
  },
  {
   "cell_type": "code",
   "execution_count": null,
   "metadata": {},
   "outputs": [],
   "source": [
    "# Assuming we are using the RGB colorspace\n",
    "# Normalize all images so that they are 0-1\n"
   ]
  },
  {
   "cell_type": "markdown",
   "metadata": {},
   "source": [
    "## Step 2\n",
    "At this point, the data has been split into training and testing sets and normalized. We will now design a fully connected neural network for texture classification. \n",
    "\n",
    "<img src=\"http://cs231n.github.io/assets/nn1/neural_net2.jpeg\" width=\"50%\"></img>\n",
    "\n",
    "( Image from http://cs231n.github.io/convolutional-networks/ )\n",
    "\n",
    "When designing a fully connected network for classification, we have several decisions to make.\n",
    "\n",
    "**Network Architecuture**\n",
    "* How many layers will our network have ?\n",
    "* How many neurons per layer ?\n",
    "* What is an appropriate batch size, learning rate and number of training epochs ?\n",
    "\n",
    "**Data input**\n",
    "* Do we use the raw data ?\n",
    "    * RGB or just gray channel ?\n",
    "* Does the use of different colorspaces lead to better results for a given network architecture ?\n",
    "* Can we use any of the texture features from the previous lab as inputs to this model ?\n",
    "* How does data augmentation affect the results ? \n",
    "\n",
    "Other considerations, we will not be exploring :\n",
    "* What is the trade-off between input data sizes and batch size ?\n",
    "* Is the GPU always the appropriate platform for training ?\n",
    "* How does hardware influence inputs and batch sizes for a given desired accuracy ?"
   ]
  },
  {
   "cell_type": "code",
   "execution_count": null,
   "metadata": {},
   "outputs": [],
   "source": [
    "# Define the data shapes based on your decision to use rgb or grayscale or other colorpsaces or texture features or \n",
    "# some combination of these inputs\n",
    "num_classes = 8 \n",
    "input_shape = nrows*ncols"
   ]
  },
  {
   "cell_type": "markdown",
   "metadata": {},
   "source": [
    "## Step 3\n",
    "Design your network here using Keras"
   ]
  },
  {
   "cell_type": "code",
   "execution_count": null,
   "metadata": {},
   "outputs": [],
   "source": [
    "# Create your network\n",
    "model = []\n",
    "model = Sequential()\n",
    "\n",
    "# Add input layer\n",
    "\n",
    "# Add fully connected layers \n",
    "# See Dense : https://keras.io/layers/core/#dense\n",
    "\n",
    "# Add final output layer - This should have as many neurons as the number\n",
    "# of classes we are trying to identify\n",
    "model.add( )\n",
    "\n",
    "model.summary()\n"
   ]
  },
  {
   "cell_type": "markdown",
   "metadata": {},
   "source": [
    "## Step 4\n",
    "Compile the model you designed. Compiltation of the Keras model results in the initialization of model weights and sets other model properties."
   ]
  },
  {
   "cell_type": "code",
   "execution_count": null,
   "metadata": {},
   "outputs": [],
   "source": [
    "model.compile(???)"
   ]
  },
  {
   "cell_type": "markdown",
   "metadata": {},
   "source": [
    "## Step 5\n",
    "Train model"
   ]
  },
  {
   "cell_type": "code",
   "execution_count": null,
   "metadata": {},
   "outputs": [],
   "source": [
    "y = model.fit(???)"
   ]
  },
  {
   "cell_type": "markdown",
   "metadata": {},
   "source": [
    "## Step 6\n",
    "See how your model performs by uisng it for inference.\n",
    "* What is the accuracy of classification ?\n",
    "* Change your model, re-compile and test. Can you improve the accuracy of the model ?\n"
   ]
  },
  {
   "cell_type": "code",
   "execution_count": null,
   "metadata": {},
   "outputs": [],
   "source": [
    "# predict labels - use the test set for prediction\n",
    "pred_labels = model.predict(???)"
   ]
  },
  {
   "cell_type": "code",
   "execution_count": null,
   "metadata": {},
   "outputs": [],
   "source": [
    "from sklearn.metrics import accuracy_score\n",
    "from sklearn.metrics import confusion_matrix\n",
    "\n",
    "# We need to convert the categorical array test_labels into a vector\n",
    "# in order to use it in the calculation of the confusion matrix\n",
    "mat = confusion_matrix(np.argmax(test_labels, axis=1), pred_labels)\n",
    "acc = accuracy_score(np.argmax(test_labels, axis=1), pred_labels)\n",
    "print(acc)\n",
    "print(mat)"
   ]
  },
  {
   "cell_type": "code",
   "execution_count": null,
   "metadata": {},
   "outputs": [],
   "source": [
    "plt.figure(figsize=(8,6))\n",
    "plt.imshow(mat, cmap='hot', interpolation='nearest')\n",
    "plt.grid(False)\n",
    "plt.colorbar()\n",
    "plt.xlabel('true label')\n",
    "plt.ylabel('predicted label')\n",
    "plt.show()"
   ]
  },
  {
   "cell_type": "markdown",
   "metadata": {},
   "source": [
    "## Assignment\n",
    "* In Step 3 design your own network\n",
    "* Does the model perform better if you use all three RGB channels ?\n",
    "* How does the performance change when using the La*b colorspace ?\n"
   ]
  }
 ],
 "metadata": {
  "kernelspec": {
   "display_name": "Python 2",
   "language": "python",
   "name": "python2"
  },
  "language_info": {
   "codemirror_mode": {
    "name": "ipython",
    "version": 2
   },
   "file_extension": ".py",
   "mimetype": "text/x-python",
   "name": "python",
   "nbconvert_exporter": "python",
   "pygments_lexer": "ipython2",
   "version": "2.7.15"
  }
 },
 "nbformat": 4,
 "nbformat_minor": 2
}
