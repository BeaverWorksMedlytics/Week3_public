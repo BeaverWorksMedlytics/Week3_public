{
  "nbformat": 4,
  "nbformat_minor": 0,
  "metadata": {
    "colab": {
      "name": "03TextureClassificationUsingVGG16_Solution.ipynb",
      "version": "0.3.2",
      "views": {},
      "default_view": {},
      "provenance": []
    },
    "kernelspec": {
      "display_name": "Python 2",
      "language": "python",
      "name": "python2"
    },
    "accelerator": "GPU"
  },
  "cells": [
    {
      "metadata": {
        "id": "9gPF149V-3xl",
        "colab_type": "text"
      },
      "cell_type": "markdown",
      "source": [
        "## Using pre-trained models for Texture Classification\n",
        "In this lab, we will use pre-trained models for the same texture classification task. The dataset we will be using is available here: http://dx.doi.org/10.5281/zenodo.53169. \n",
        "\n",
        "![alt text](https://www.researchgate.net/profile/Jakob_Kather/publication/303998214/figure/fig7/AS:391073710002224@1470250646407/Representative-images-from-our-dataset-Here-the-first-10-images-of-every-tissue-class.png)\n",
        "\n",
        "The above figure shows the 8 different classes of tissue we will be trying to identify. "
      ]
    },
    {
      "metadata": {
        "id": "2XS4HHKf-3xo",
        "colab_type": "code",
        "colab": {
          "autoexec": {
            "startup": false,
            "wait_interval": 0
          }
        }
      },
      "cell_type": "code",
      "source": [
        "from __future__ import print_function\n",
        "import os\n",
        "import numpy as np\n",
        "from tensorflow.keras.utils import to_categorical\n",
        "from tensorflow.keras import Model, Sequential\n",
        "from tensorflow.keras.layers import Input, Flatten, Dense, Dropout\n",
        "from tensorflow.keras.applications import VGG16\n",
        "from matplotlib import pylab as plt\n",
        "from skimage.color import rgb2lab, rgb2hsv"
      ],
      "execution_count": 0,
      "outputs": []
    },
    {
      "metadata": {
        "id": "1W3NwJ48-3xz",
        "colab_type": "text"
      },
      "cell_type": "markdown",
      "source": [
        "## Step 1: Load pre-trained VGG16 model\n",
        "We will use the VGG16 model as the feature extractor for this classification task. First, we need to download the pre-trained weights. The model has been trained on the ImageNet image classification dataset. For more details on this dataset see http://www.image-net.org/. "
      ]
    },
    {
      "metadata": {
        "id": "6VCkl7rQ-3x1",
        "colab_type": "code",
        "colab": {
          "autoexec": {
            "startup": false,
            "wait_interval": 0
          },
          "base_uri": "https://localhost:8080/",
          "height": 67
        },
        "outputId": "e3727bbe-9a96-4bab-9eb9-fa486820d0a8",
        "executionInfo": {
          "status": "ok",
          "timestamp": 1532458269997,
          "user_tz": 240,
          "elapsed": 3506,
          "user": {
            "displayName": "Thomas Possidente",
            "photoUrl": "https://lh3.googleusercontent.com/a/default-user=s128",
            "userId": "106075129304574823577"
          }
        }
      },
      "cell_type": "code",
      "source": [
        "model = None\n",
        "model = VGG16(weights='imagenet', include_top=False, input_shape = (150, 150, 3))\n",
        "#model.summary()"
      ],
      "execution_count": 2,
      "outputs": [
        {
          "output_type": "stream",
          "text": [
            "Downloading data from https://github.com/fchollet/deep-learning-models/releases/download/v0.1/vgg16_weights_tf_dim_ordering_tf_kernels_notop.h5\n",
            "58892288/58889256 [==============================] - 1s 0us/step\n",
            "58900480/58889256 [==============================] - 1s 0us/step\n"
          ],
          "name": "stdout"
        }
      ]
    },
    {
      "metadata": {
        "id": "MtRugIuZ-3x9",
        "colab_type": "text"
      },
      "cell_type": "markdown",
      "source": [
        "## VGG16\n",
        "Let's examine the VGG16 model. The model has 16 layers as seen above. The model has the following specifications\n",
        "* Expected input size : 224x224 pixels\n",
        "* Number of output classes : 1000\n",
        "\n",
        "Our images are 150x150 pixels in size and come from only 10 categories. In order to use this model for our classification task, we need to do the following:\n",
        "* Resize images : Our input images can be resized to the appropriate dimensions. Alternatively, we can pad our images to the expected dimensions. Padding leads to additional choices - Do we pad with zeros, duplicate edge pixels or mirror the image across edges ?\n",
        "* Change the prediction layer : Remove the existing prediction layer and add a new layer that can predict 8 classes.\n",
        "* Train : Finally, we need to train the network on our data"
      ]
    },
    {
      "metadata": {
        "id": "5qee4CK6-3x_",
        "colab_type": "text"
      },
      "cell_type": "markdown",
      "source": [
        "# Step 2\n",
        "Load the data and resize images appropriately. Use the helper function in utils.py. The assumption is that you have already cloned the Week3 repo and know the path to the data folder."
      ]
    },
    {
      "metadata": {
        "id": "_k5tmqKKEXnj",
        "colab_type": "code",
        "colab": {
          "autoexec": {
            "startup": false,
            "wait_interval": 0
          }
        }
      },
      "cell_type": "code",
      "source": [
        "def load_crc_data(data_dir):\n",
        "    y = np.load(os.path.join(data_dir, 'rgb01.npz'))\n",
        "    labels = y['labels']\n",
        "    data = y['rgb_data']\n",
        "    label_str = y['label_str']\n",
        "    label_str = label_str.tolist() # this is to convert label_str back to a dictionary\n",
        "    y = []\n",
        "\n",
        "    for ii in range(2,6):\n",
        "        filename = os.path.join(data_dir, 'rgb0' + str(ii) + '.npz')\n",
        "        print('loading ', filename)\n",
        "        y = np.load(filename)\n",
        "        labels = np.append(labels, y['labels'], axis=0)\n",
        "        data = np.append(data, y['rgb_data'], axis=0)\n",
        "        print(data.shape)\n",
        "\n",
        "    return data, labels, label_str"
      ],
      "execution_count": 0,
      "outputs": []
    },
    {
      "metadata": {
        "id": "v4ISStKX-3yC",
        "colab_type": "code",
        "colab": {
          "autoexec": {
            "startup": false,
            "wait_interval": 0
          },
          "base_uri": "https://localhost:8080/",
          "height": 235
        },
        "outputId": "45c2c3aa-ef37-4032-8723-548de1586743",
        "executionInfo": {
          "status": "ok",
          "timestamp": 1532458350500,
          "user_tz": 240,
          "elapsed": 70924,
          "user": {
            "displayName": "Thomas Possidente",
            "photoUrl": "https://lh3.googleusercontent.com/a/default-user=s128",
            "userId": "106075129304574823577"
          }
        }
      },
      "cell_type": "code",
      "source": [
        "#! git clone https://github.com/BeaverWorksMedlytics/Week3_public.git\n",
        "os.chdir('..')\n",
        "from skimage.transform import resize\n",
        "from sklearn.model_selection import train_test_split\n",
        "data_dir = os.path.join( os.getcwd(), 'Week3_public', 'data', 'crc')\n",
        "data, labels, label_str = load_crc_data(data_dir)\n",
        "num_images = data.shape[0]"
      ],
      "execution_count": 5,
      "outputs": [
        {
          "output_type": "stream",
          "text": [
            "Cloning into 'Week3_public'...\n",
            "remote: Counting objects: 82, done.\u001b[K\n",
            "remote: Total 82 (delta 0), reused 0 (delta 0), pack-reused 82\u001b[K\n",
            "Unpacking objects: 100% (82/82), done.\n",
            "Checking out files: 100% (25/25), done.\n",
            "loading  /Week3_public/data/crc/rgb02.npz\n",
            "(2000, 150, 150, 3)\n",
            "loading  /Week3_public/data/crc/rgb03.npz\n",
            "(3000, 150, 150, 3)\n",
            "loading  /Week3_public/data/crc/rgb04.npz\n",
            "(4000, 150, 150, 3)\n",
            "loading  /Week3_public/data/crc/rgb05.npz\n",
            "(5000, 150, 150, 3)\n"
          ],
          "name": "stdout"
        }
      ]
    },
    {
      "metadata": {
        "id": "R0ag5Lm5-3yJ",
        "colab_type": "code",
        "colab": {
          "autoexec": {
            "startup": false,
            "wait_interval": 0
          },
          "base_uri": "https://localhost:8080/",
          "height": 34
        },
        "outputId": "40379779-068a-4530-8752-d9292d59db9d",
        "executionInfo": {
          "status": "ok",
          "timestamp": 1532366282763,
          "user_tz": 240,
          "elapsed": 40845,
          "user": {
            "displayName": "Thomas Possidente",
            "photoUrl": "https://lh3.googleusercontent.com/a/default-user=s128",
            "userId": "106075129304574823577"
          }
        }
      },
      "cell_type": "code",
      "source": [
        "# Resize data\n",
        "#resized_data = np.zeros((num_images, 224, 224, 3))\n",
        "#for ii in range(0, num_images):\n",
        "#    resized_data[ii,::] = resize(data[ii,::], (224, 224, 3), mode='symmetric')\n",
        "#data = resized_data\n",
        "#resized_data = []\n",
        "#print(data.shape)"
      ],
      "execution_count": 0,
      "outputs": [
        {
          "output_type": "stream",
          "text": [
            "(5000, 224, 224, 3)\n"
          ],
          "name": "stdout"
        }
      ]
    },
    {
      "metadata": {
        "id": "NEoblCFT-3yP",
        "colab_type": "code",
        "colab": {
          "autoexec": {
            "startup": false,
            "wait_interval": 0
          }
        }
      },
      "cell_type": "code",
      "source": [
        "#with open('resized.npz', 'wb') as fp:\n",
        "#    np.savez(fp, data=data, labels=labels)"
      ],
      "execution_count": 0,
      "outputs": []
    },
    {
      "metadata": {
        "id": "YptbEz_3-3yS",
        "colab_type": "code",
        "colab": {
          "autoexec": {
            "startup": false,
            "wait_interval": 0
          }
        }
      },
      "cell_type": "code",
      "source": [
        "# Split data into train and test sets\n",
        "train_images, test_images, train_labels, test_labels = train_test_split(data, labels, test_size=.2)\n",
        "data = None\n",
        "ntrain = train_images.shape[0]\n",
        "ntest  = test_images.shape[0]"
      ],
      "execution_count": 0,
      "outputs": []
    },
    {
      "metadata": {
        "id": "zDQw9IrA-3yX",
        "colab_type": "text"
      },
      "cell_type": "markdown",
      "source": [
        "## Step 3\n",
        "We will now modify the pre-trained VGG network as described earlier. We will remove the following layers : \n",
        "\n",
        "<img src=\"images/final_layers.png\" width=\"65%\"></img> \n"
      ]
    },
    {
      "metadata": {
        "id": "AA1U0Oe--3yY",
        "colab_type": "code",
        "colab": {
          "autoexec": {
            "startup": false,
            "wait_interval": 0
          },
          "base_uri": "https://localhost:8080/",
          "height": 638
        },
        "outputId": "60f73986-bdff-444b-d850-7e45321ad0d2",
        "executionInfo": {
          "status": "ok",
          "timestamp": 1532458361150,
          "user_tz": 240,
          "elapsed": 653,
          "user": {
            "displayName": "Thomas Possidente",
            "photoUrl": "https://lh3.googleusercontent.com/a/default-user=s128",
            "userId": "106075129304574823577"
          }
        }
      },
      "cell_type": "code",
      "source": [
        "# remove the final layer in the model\n",
        "for ii in range(0,4):\n",
        "    model.layers.pop()\n",
        "model.summary()"
      ],
      "execution_count": 7,
      "outputs": [
        {
          "output_type": "stream",
          "text": [
            "_________________________________________________________________\n",
            "Layer (type)                 Output Shape              Param #   \n",
            "=================================================================\n",
            "input_1 (InputLayer)         (None, 150, 150, 3)       0         \n",
            "_________________________________________________________________\n",
            "block1_conv1 (Conv2D)        (None, 150, 150, 64)      1792      \n",
            "_________________________________________________________________\n",
            "block1_conv2 (Conv2D)        (None, 150, 150, 64)      36928     \n",
            "_________________________________________________________________\n",
            "block1_pool (MaxPooling2D)   (None, 75, 75, 64)        0         \n",
            "_________________________________________________________________\n",
            "block2_conv1 (Conv2D)        (None, 75, 75, 128)       73856     \n",
            "_________________________________________________________________\n",
            "block2_conv2 (Conv2D)        (None, 75, 75, 128)       147584    \n",
            "_________________________________________________________________\n",
            "block2_pool (MaxPooling2D)   (None, 37, 37, 128)       0         \n",
            "_________________________________________________________________\n",
            "block3_conv1 (Conv2D)        (None, 37, 37, 256)       295168    \n",
            "_________________________________________________________________\n",
            "block3_conv2 (Conv2D)        (None, 37, 37, 256)       590080    \n",
            "_________________________________________________________________\n",
            "block3_conv3 (Conv2D)        (None, 37, 37, 256)       590080    \n",
            "_________________________________________________________________\n",
            "block3_pool (MaxPooling2D)   (None, 18, 18, 256)       0         \n",
            "_________________________________________________________________\n",
            "block4_conv1 (Conv2D)        (None, 18, 18, 512)       1180160   \n",
            "_________________________________________________________________\n",
            "block4_conv2 (Conv2D)        (None, 18, 18, 512)       2359808   \n",
            "_________________________________________________________________\n",
            "block4_conv3 (Conv2D)        (None, 18, 18, 512)       2359808   \n",
            "_________________________________________________________________\n",
            "block4_pool (MaxPooling2D)   (None, 9, 9, 512)         0         \n",
            "=================================================================\n",
            "Total params: 7,635,264\n",
            "Trainable params: 7,635,264\n",
            "Non-trainable params: 0\n",
            "_________________________________________________________________\n"
          ],
          "name": "stdout"
        }
      ]
    },
    {
      "metadata": {
        "id": "GgsfRGFN-3yc",
        "colab_type": "code",
        "colab": {
          "autoexec": {
            "startup": false,
            "wait_interval": 0
          },
          "base_uri": "https://localhost:8080/",
          "height": 1159
        },
        "outputId": "3ef4623d-3d74-4cea-8a07-61153dc15149",
        "executionInfo": {
          "status": "ok",
          "timestamp": 1532458364215,
          "user_tz": 240,
          "elapsed": 892,
          "user": {
            "displayName": "Thomas Possidente",
            "photoUrl": "https://lh3.googleusercontent.com/a/default-user=s128",
            "userId": "106075129304574823577"
          }
        }
      },
      "cell_type": "code",
      "source": [
        "# Convert into sequential\n",
        "seq_model = None\n",
        "seq_model = Sequential()\n",
        "for layer in model.layers:\n",
        "    seq_model.add( layer )\n",
        "seq_model.summary()\n",
        "\n",
        "for ii in range(0,1):\n",
        "    seq_model.pop()\n",
        "\n",
        "seq_model.summary()"
      ],
      "execution_count": 8,
      "outputs": [
        {
          "output_type": "stream",
          "text": [
            "_________________________________________________________________\n",
            "Layer (type)                 Output Shape              Param #   \n",
            "=================================================================\n",
            "block1_conv1 (Conv2D)        (None, 150, 150, 64)      1792      \n",
            "_________________________________________________________________\n",
            "block1_conv2 (Conv2D)        (None, 150, 150, 64)      36928     \n",
            "_________________________________________________________________\n",
            "block1_pool (MaxPooling2D)   (None, 75, 75, 64)        0         \n",
            "_________________________________________________________________\n",
            "block2_conv1 (Conv2D)        (None, 75, 75, 128)       73856     \n",
            "_________________________________________________________________\n",
            "block2_conv2 (Conv2D)        (None, 75, 75, 128)       147584    \n",
            "_________________________________________________________________\n",
            "block2_pool (MaxPooling2D)   (None, 37, 37, 128)       0         \n",
            "_________________________________________________________________\n",
            "block3_conv1 (Conv2D)        (None, 37, 37, 256)       295168    \n",
            "_________________________________________________________________\n",
            "block3_conv2 (Conv2D)        (None, 37, 37, 256)       590080    \n",
            "_________________________________________________________________\n",
            "block3_conv3 (Conv2D)        (None, 37, 37, 256)       590080    \n",
            "_________________________________________________________________\n",
            "block3_pool (MaxPooling2D)   (None, 18, 18, 256)       0         \n",
            "_________________________________________________________________\n",
            "block4_conv1 (Conv2D)        (None, 18, 18, 512)       1180160   \n",
            "_________________________________________________________________\n",
            "block4_conv2 (Conv2D)        (None, 18, 18, 512)       2359808   \n",
            "_________________________________________________________________\n",
            "block4_conv3 (Conv2D)        (None, 18, 18, 512)       2359808   \n",
            "_________________________________________________________________\n",
            "block4_pool (MaxPooling2D)   (None, 9, 9, 512)         0         \n",
            "=================================================================\n",
            "Total params: 7,635,264\n",
            "Trainable params: 7,635,264\n",
            "Non-trainable params: 0\n",
            "_________________________________________________________________\n",
            "_________________________________________________________________\n",
            "Layer (type)                 Output Shape              Param #   \n",
            "=================================================================\n",
            "block1_conv1 (Conv2D)        (None, 150, 150, 64)      1792      \n",
            "_________________________________________________________________\n",
            "block1_conv2 (Conv2D)        (None, 150, 150, 64)      36928     \n",
            "_________________________________________________________________\n",
            "block1_pool (MaxPooling2D)   (None, 75, 75, 64)        0         \n",
            "_________________________________________________________________\n",
            "block2_conv1 (Conv2D)        (None, 75, 75, 128)       73856     \n",
            "_________________________________________________________________\n",
            "block2_conv2 (Conv2D)        (None, 75, 75, 128)       147584    \n",
            "_________________________________________________________________\n",
            "block2_pool (MaxPooling2D)   (None, 37, 37, 128)       0         \n",
            "_________________________________________________________________\n",
            "block3_conv1 (Conv2D)        (None, 37, 37, 256)       295168    \n",
            "_________________________________________________________________\n",
            "block3_conv2 (Conv2D)        (None, 37, 37, 256)       590080    \n",
            "_________________________________________________________________\n",
            "block3_conv3 (Conv2D)        (None, 37, 37, 256)       590080    \n",
            "_________________________________________________________________\n",
            "block3_pool (MaxPooling2D)   (None, 18, 18, 256)       0         \n",
            "_________________________________________________________________\n",
            "block4_conv1 (Conv2D)        (None, 18, 18, 512)       1180160   \n",
            "_________________________________________________________________\n",
            "block4_conv2 (Conv2D)        (None, 18, 18, 512)       2359808   \n",
            "_________________________________________________________________\n",
            "block4_conv3 (Conv2D)        (None, 18, 18, 512)       2359808   \n",
            "=================================================================\n",
            "Total params: 7,635,264\n",
            "Trainable params: 7,635,264\n",
            "Non-trainable params: 0\n",
            "_________________________________________________________________\n"
          ],
          "name": "stdout"
        }
      ]
    },
    {
      "metadata": {
        "id": "hkqoOtvN-3yi",
        "colab_type": "text"
      },
      "cell_type": "markdown",
      "source": [
        "# Step 4\n",
        "Freeze the layers that remain in our model."
      ]
    },
    {
      "metadata": {
        "id": "QWiVwA-7-3yi",
        "colab_type": "code",
        "colab": {
          "autoexec": {
            "startup": false,
            "wait_interval": 0
          },
          "base_uri": "https://localhost:8080/",
          "height": 1193
        },
        "outputId": "caa9f8cb-61a4-4209-9625-2ee2e2592573",
        "executionInfo": {
          "status": "ok",
          "timestamp": 1532458366963,
          "user_tz": 240,
          "elapsed": 794,
          "user": {
            "displayName": "Thomas Possidente",
            "photoUrl": "https://lh3.googleusercontent.com/a/default-user=s128",
            "userId": "106075129304574823577"
          }
        }
      },
      "cell_type": "code",
      "source": [
        "for layer in seq_model.layers:\n",
        "    layer.trainable = False\n",
        "seq_model.summary()\n",
        "\n",
        "seq_model.add( Flatten(name=\"my_flatten\") )\n",
        "#seq_model.add( Dense(1024, activation=\"relu\", name=\"new_dense1\") )\n",
        "#seq_model.add( Dropout(0.5) )\n",
        "#seq_model.add( Dense(64, activation=\"relu\", name=\"new_dense2\") )\n",
        "seq_model.add( Dense(8, activation=\"relu\", name=\"predictions\") )\n",
        "\n",
        "seq_model.summary()"
      ],
      "execution_count": 9,
      "outputs": [
        {
          "output_type": "stream",
          "text": [
            "_________________________________________________________________\n",
            "Layer (type)                 Output Shape              Param #   \n",
            "=================================================================\n",
            "block1_conv1 (Conv2D)        (None, 150, 150, 64)      1792      \n",
            "_________________________________________________________________\n",
            "block1_conv2 (Conv2D)        (None, 150, 150, 64)      36928     \n",
            "_________________________________________________________________\n",
            "block1_pool (MaxPooling2D)   (None, 75, 75, 64)        0         \n",
            "_________________________________________________________________\n",
            "block2_conv1 (Conv2D)        (None, 75, 75, 128)       73856     \n",
            "_________________________________________________________________\n",
            "block2_conv2 (Conv2D)        (None, 75, 75, 128)       147584    \n",
            "_________________________________________________________________\n",
            "block2_pool (MaxPooling2D)   (None, 37, 37, 128)       0         \n",
            "_________________________________________________________________\n",
            "block3_conv1 (Conv2D)        (None, 37, 37, 256)       295168    \n",
            "_________________________________________________________________\n",
            "block3_conv2 (Conv2D)        (None, 37, 37, 256)       590080    \n",
            "_________________________________________________________________\n",
            "block3_conv3 (Conv2D)        (None, 37, 37, 256)       590080    \n",
            "_________________________________________________________________\n",
            "block3_pool (MaxPooling2D)   (None, 18, 18, 256)       0         \n",
            "_________________________________________________________________\n",
            "block4_conv1 (Conv2D)        (None, 18, 18, 512)       1180160   \n",
            "_________________________________________________________________\n",
            "block4_conv2 (Conv2D)        (None, 18, 18, 512)       2359808   \n",
            "_________________________________________________________________\n",
            "block4_conv3 (Conv2D)        (None, 18, 18, 512)       2359808   \n",
            "=================================================================\n",
            "Total params: 7,635,264\n",
            "Trainable params: 0\n",
            "Non-trainable params: 7,635,264\n",
            "_________________________________________________________________\n",
            "_________________________________________________________________\n",
            "Layer (type)                 Output Shape              Param #   \n",
            "=================================================================\n",
            "block1_conv1 (Conv2D)        (None, 150, 150, 64)      1792      \n",
            "_________________________________________________________________\n",
            "block1_conv2 (Conv2D)        (None, 150, 150, 64)      36928     \n",
            "_________________________________________________________________\n",
            "block1_pool (MaxPooling2D)   (None, 75, 75, 64)        0         \n",
            "_________________________________________________________________\n",
            "block2_conv1 (Conv2D)        (None, 75, 75, 128)       73856     \n",
            "_________________________________________________________________\n",
            "block2_conv2 (Conv2D)        (None, 75, 75, 128)       147584    \n",
            "_________________________________________________________________\n",
            "block2_pool (MaxPooling2D)   (None, 37, 37, 128)       0         \n",
            "_________________________________________________________________\n",
            "block3_conv1 (Conv2D)        (None, 37, 37, 256)       295168    \n",
            "_________________________________________________________________\n",
            "block3_conv2 (Conv2D)        (None, 37, 37, 256)       590080    \n",
            "_________________________________________________________________\n",
            "block3_conv3 (Conv2D)        (None, 37, 37, 256)       590080    \n",
            "_________________________________________________________________\n",
            "block3_pool (MaxPooling2D)   (None, 18, 18, 256)       0         \n",
            "_________________________________________________________________\n",
            "block4_conv1 (Conv2D)        (None, 18, 18, 512)       1180160   \n",
            "_________________________________________________________________\n",
            "block4_conv2 (Conv2D)        (None, 18, 18, 512)       2359808   \n",
            "_________________________________________________________________\n",
            "block4_conv3 (Conv2D)        (None, 18, 18, 512)       2359808   \n",
            "_________________________________________________________________\n",
            "my_flatten (Flatten)         (None, 165888)            0         \n",
            "_________________________________________________________________\n",
            "predictions (Dense)          (None, 8)                 1327112   \n",
            "=================================================================\n",
            "Total params: 8,962,376\n",
            "Trainable params: 1,327,112\n",
            "Non-trainable params: 7,635,264\n",
            "_________________________________________________________________\n"
          ],
          "name": "stdout"
        }
      ]
    },
    {
      "metadata": {
        "id": "uQDI5Thq-3yn",
        "colab_type": "code",
        "colab": {
          "autoexec": {
            "startup": false,
            "wait_interval": 0
          }
        }
      },
      "cell_type": "code",
      "source": [
        "seq_model.compile(optimizer='sgd', loss='categorical_crossentropy', metrics = ['accuracy'])"
      ],
      "execution_count": 0,
      "outputs": []
    },
    {
      "metadata": {
        "id": "TVRFOLnl-3yr",
        "colab_type": "code",
        "colab": {
          "autoexec": {
            "startup": false,
            "wait_interval": 0
          }
        }
      },
      "cell_type": "code",
      "source": [
        "train_labels = to_categorical(train_labels)\n",
        "test_labels = to_categorical(test_labels)"
      ],
      "execution_count": 0,
      "outputs": []
    },
    {
      "metadata": {
        "id": "zONGCaxU-3yt",
        "colab_type": "code",
        "colab": {
          "autoexec": {
            "startup": false,
            "wait_interval": 0
          },
          "base_uri": "https://localhost:8080/",
          "height": 3414
        },
        "outputId": "36e60b6f-57d6-4e77-f81b-6804a7042811",
        "executionInfo": {
          "status": "ok",
          "timestamp": 1532462100858,
          "user_tz": 240,
          "elapsed": 2217592,
          "user": {
            "displayName": "Thomas Possidente",
            "photoUrl": "https://lh3.googleusercontent.com/a/default-user=s128",
            "userId": "106075129304574823577"
          }
        }
      },
      "cell_type": "code",
      "source": [
        "y = seq_model.fit(train_images, train_labels, validation_data=(test_images, test_labels),\n",
        "                  batch_size=64, epochs=100, verbose=1)"
      ],
      "execution_count": 15,
      "outputs": [
        {
          "output_type": "stream",
          "text": [
            "Train on 4000 samples, validate on 1000 samples\n",
            "Epoch 1/100\n",
            "4000/4000 [==============================] - 22s 6ms/step - loss: 1.5568 - acc: 0.2527 - val_loss: 1.5295 - val_acc: 0.2750\n",
            "Epoch 2/100\n",
            "4000/4000 [==============================] - 22s 6ms/step - loss: 1.5438 - acc: 0.2555 - val_loss: 1.5163 - val_acc: 0.2750\n",
            "Epoch 3/100\n",
            "4000/4000 [==============================] - 22s 6ms/step - loss: 1.5317 - acc: 0.2595 - val_loss: 1.5041 - val_acc: 0.2780\n",
            "Epoch 4/100\n",
            "4000/4000 [==============================] - 22s 6ms/step - loss: 1.5205 - acc: 0.2625 - val_loss: 1.4930 - val_acc: 0.2800\n",
            "Epoch 5/100\n",
            "1024/4000 [======>.......................] - ETA: 13s - loss: 1.5287 - acc: 0.2559"
          ],
          "name": "stdout"
        },
        {
          "output_type": "stream",
          "text": [
            "4000/4000 [==============================] - 22s 6ms/step - loss: 1.5100 - acc: 0.2665 - val_loss: 1.4824 - val_acc: 0.2850\n",
            "Epoch 6/100\n",
            "4000/4000 [==============================] - 22s 6ms/step - loss: 1.4997 - acc: 0.2690 - val_loss: 1.4721 - val_acc: 0.2870\n",
            "Epoch 7/100\n",
            "4000/4000 [==============================] - 22s 6ms/step - loss: 1.4897 - acc: 0.2722 - val_loss: 1.4620 - val_acc: 0.2880\n",
            "Epoch 8/100\n",
            "4000/4000 [==============================] - 22s 6ms/step - loss: 1.4799 - acc: 0.2755 - val_loss: 1.4521 - val_acc: 0.2920\n",
            "Epoch 9/100\n",
            "2816/4000 [====================>.........] - ETA: 5s - loss: 1.4842 - acc: 0.2731"
          ],
          "name": "stdout"
        },
        {
          "output_type": "stream",
          "text": [
            "4000/4000 [==============================] - 22s 6ms/step - loss: 1.4702 - acc: 0.2790 - val_loss: 1.4422 - val_acc: 0.2950\n",
            "Epoch 10/100\n",
            "4000/4000 [==============================] - 22s 6ms/step - loss: 1.4605 - acc: 0.2812 - val_loss: 1.4322 - val_acc: 0.2970\n",
            "Epoch 11/100\n",
            "4000/4000 [==============================] - 22s 6ms/step - loss: 1.4507 - acc: 0.2830 - val_loss: 1.4223 - val_acc: 0.3020\n",
            "Epoch 12/100\n",
            "4000/4000 [==============================] - 22s 6ms/step - loss: 1.4409 - acc: 0.2865 - val_loss: 1.4123 - val_acc: 0.3050\n",
            "Epoch 13/100\n",
            "3008/4000 [=====================>........] - ETA: 4s - loss: 1.4396 - acc: 0.2852"
          ],
          "name": "stdout"
        },
        {
          "output_type": "stream",
          "text": [
            "4000/4000 [==============================] - 22s 6ms/step - loss: 1.4310 - acc: 0.2910 - val_loss: 1.4021 - val_acc: 0.3080\n",
            "Epoch 14/100\n",
            "4000/4000 [==============================] - 22s 6ms/step - loss: 1.4209 - acc: 0.2948 - val_loss: 1.3917 - val_acc: 0.3120\n",
            "Epoch 15/100\n",
            "4000/4000 [==============================] - 22s 6ms/step - loss: 1.4107 - acc: 0.2975 - val_loss: 1.3812 - val_acc: 0.3160\n",
            "Epoch 16/100\n",
            "4000/4000 [==============================] - 22s 6ms/step - loss: 1.4003 - acc: 0.2993 - val_loss: 1.3704 - val_acc: 0.3180\n",
            "Epoch 17/100\n",
            "3008/4000 [=====================>........] - ETA: 4s - loss: 1.3820 - acc: 0.3052"
          ],
          "name": "stdout"
        },
        {
          "output_type": "stream",
          "text": [
            "4000/4000 [==============================] - 22s 6ms/step - loss: 1.3898 - acc: 0.3008 - val_loss: 1.3595 - val_acc: 0.3230\n",
            "Epoch 18/100\n",
            "4000/4000 [==============================] - 22s 6ms/step - loss: 1.3791 - acc: 0.3045 - val_loss: 1.3483 - val_acc: 0.3250\n",
            "Epoch 19/100\n",
            "4000/4000 [==============================] - 22s 6ms/step - loss: 1.3683 - acc: 0.3070 - val_loss: 1.3370 - val_acc: 0.3330\n",
            "Epoch 20/100\n",
            "4000/4000 [==============================] - 22s 6ms/step - loss: 1.3574 - acc: 0.3122 - val_loss: 1.3255 - val_acc: 0.3390\n",
            "Epoch 21/100\n",
            "3008/4000 [=====================>........] - ETA: 4s - loss: 1.3431 - acc: 0.3201"
          ],
          "name": "stdout"
        },
        {
          "output_type": "stream",
          "text": [
            "4000/4000 [==============================] - 22s 6ms/step - loss: 1.3463 - acc: 0.3152 - val_loss: 1.3141 - val_acc: 0.3440\n",
            "Epoch 22/100\n",
            "4000/4000 [==============================] - 22s 6ms/step - loss: 1.3353 - acc: 0.3180 - val_loss: 1.3029 - val_acc: 0.3480\n",
            "Epoch 23/100\n",
            "4000/4000 [==============================] - 22s 6ms/step - loss: 1.3245 - acc: 0.3212 - val_loss: 1.2918 - val_acc: 0.3530\n",
            "Epoch 24/100\n",
            "4000/4000 [==============================] - 22s 6ms/step - loss: 1.3135 - acc: 0.3265 - val_loss: 1.2808 - val_acc: 0.3560\n",
            "Epoch 25/100\n",
            "3008/4000 [=====================>........] - ETA: 4s - loss: 1.3030 - acc: 0.3285"
          ],
          "name": "stdout"
        },
        {
          "output_type": "stream",
          "text": [
            "4000/4000 [==============================] - 22s 6ms/step - loss: 1.3026 - acc: 0.3297 - val_loss: 1.2698 - val_acc: 0.3600\n",
            "Epoch 26/100\n",
            "4000/4000 [==============================] - 22s 6ms/step - loss: 1.2919 - acc: 0.3335 - val_loss: 1.2589 - val_acc: 0.3630\n",
            "Epoch 27/100\n",
            "4000/4000 [==============================] - 22s 6ms/step - loss: 1.2810 - acc: 0.3372 - val_loss: 1.2488 - val_acc: 0.3690\n",
            "Epoch 28/100\n",
            "4000/4000 [==============================] - 22s 6ms/step - loss: 1.2702 - acc: 0.3420 - val_loss: 1.2368 - val_acc: 0.3720\n",
            "Epoch 29/100\n",
            "3008/4000 [=====================>........] - ETA: 4s - loss: 1.2569 - acc: 0.3481"
          ],
          "name": "stdout"
        },
        {
          "output_type": "stream",
          "text": [
            "4000/4000 [==============================] - 22s 6ms/step - loss: 1.2593 - acc: 0.3455 - val_loss: 1.2261 - val_acc: 0.3780\n",
            "Epoch 30/100\n",
            "4000/4000 [==============================] - 22s 6ms/step - loss: 1.2486 - acc: 0.3503 - val_loss: 1.2170 - val_acc: 0.3850\n",
            "Epoch 31/100\n",
            "4000/4000 [==============================] - 22s 6ms/step - loss: 1.2378 - acc: 0.3528 - val_loss: 1.2050 - val_acc: 0.3870\n",
            "Epoch 32/100\n",
            "4000/4000 [==============================] - 22s 6ms/step - loss: 1.2271 - acc: 0.3570 - val_loss: 1.1941 - val_acc: 0.3920\n",
            "Epoch 33/100\n",
            "3008/4000 [=====================>........] - ETA: 4s - loss: 1.2120 - acc: 0.3594"
          ],
          "name": "stdout"
        },
        {
          "output_type": "stream",
          "text": [
            "4000/4000 [==============================] - 22s 6ms/step - loss: 1.2161 - acc: 0.3590 - val_loss: 1.1935 - val_acc: 0.3960\n",
            "Epoch 34/100\n",
            "4000/4000 [==============================] - 22s 6ms/step - loss: 1.2051 - acc: 0.3627 - val_loss: 1.1824 - val_acc: 0.4030\n",
            "Epoch 35/100\n",
            "4000/4000 [==============================] - 22s 6ms/step - loss: 1.1945 - acc: 0.3678 - val_loss: 1.1716 - val_acc: 0.4060\n",
            "Epoch 36/100\n",
            "4000/4000 [==============================] - 22s 6ms/step - loss: 1.1836 - acc: 0.3745 - val_loss: 1.1609 - val_acc: 0.4140\n",
            "Epoch 37/100\n",
            "3008/4000 [=====================>........] - ETA: 4s - loss: 1.1764 - acc: 0.3757"
          ],
          "name": "stdout"
        },
        {
          "output_type": "stream",
          "text": [
            "4000/4000 [==============================] - 22s 6ms/step - loss: 1.1726 - acc: 0.3790 - val_loss: 1.1502 - val_acc: 0.4190\n",
            "Epoch 38/100\n",
            "4000/4000 [==============================] - 22s 6ms/step - loss: 1.1616 - acc: 0.3840 - val_loss: 1.1397 - val_acc: 0.4230\n",
            "Epoch 39/100\n",
            "4000/4000 [==============================] - 22s 6ms/step - loss: 1.1504 - acc: 0.3882 - val_loss: 1.1285 - val_acc: 0.4320\n",
            "Epoch 40/100\n",
            "4000/4000 [==============================] - 22s 6ms/step - loss: 1.1389 - acc: 0.3947 - val_loss: 1.1180 - val_acc: 0.4380\n",
            "Epoch 41/100\n",
            "3008/4000 [=====================>........] - ETA: 4s - loss: 1.1296 - acc: 0.3939"
          ],
          "name": "stdout"
        },
        {
          "output_type": "stream",
          "text": [
            "4000/4000 [==============================] - 22s 6ms/step - loss: 1.1272 - acc: 0.3995 - val_loss: 1.1063 - val_acc: 0.4440\n",
            "Epoch 42/100\n",
            "4000/4000 [==============================] - 22s 6ms/step - loss: 1.1150 - acc: 0.4080 - val_loss: 1.0940 - val_acc: 0.4540\n",
            "Epoch 43/100\n",
            "4000/4000 [==============================] - 22s 6ms/step - loss: 1.1026 - acc: 0.4160 - val_loss: 1.0827 - val_acc: 0.4660\n",
            "Epoch 44/100\n",
            "4000/4000 [==============================] - 22s 6ms/step - loss: 1.0896 - acc: 0.4263 - val_loss: 1.0694 - val_acc: 0.4740\n",
            "Epoch 45/100\n",
            "3008/4000 [=====================>........] - ETA: 4s - loss: 1.0710 - acc: 0.4378"
          ],
          "name": "stdout"
        },
        {
          "output_type": "stream",
          "text": [
            "4000/4000 [==============================] - 22s 6ms/step - loss: 1.0757 - acc: 0.4333 - val_loss: 1.0576 - val_acc: 0.4840\n",
            "Epoch 46/100\n",
            "4000/4000 [==============================] - 22s 6ms/step - loss: 1.0615 - acc: 0.4440 - val_loss: 1.0433 - val_acc: 0.4910\n",
            "Epoch 47/100\n",
            "4000/4000 [==============================] - 22s 6ms/step - loss: 1.0459 - acc: 0.4537 - val_loss: 1.0290 - val_acc: 0.4960\n",
            "Epoch 48/100\n",
            "4000/4000 [==============================] - 22s 6ms/step - loss: 1.0295 - acc: 0.4642 - val_loss: 1.0261 - val_acc: 0.5010\n",
            "Epoch 49/100\n",
            "3008/4000 [=====================>........] - ETA: 4s - loss: 1.0049 - acc: 0.4751"
          ],
          "name": "stdout"
        },
        {
          "output_type": "stream",
          "text": [
            "4000/4000 [==============================] - 22s 6ms/step - loss: 1.0115 - acc: 0.4753 - val_loss: 1.0094 - val_acc: 0.5080\n",
            "Epoch 50/100\n",
            "4000/4000 [==============================] - 22s 6ms/step - loss: 0.9916 - acc: 0.4898 - val_loss: 0.9903 - val_acc: 0.5180\n",
            "Epoch 51/100\n",
            "4000/4000 [==============================] - 22s 6ms/step - loss: 0.9700 - acc: 0.5040 - val_loss: 0.9709 - val_acc: 0.5290\n",
            "Epoch 52/100\n",
            "4000/4000 [==============================] - 22s 6ms/step - loss: 0.9455 - acc: 0.5225 - val_loss: 0.9491 - val_acc: 0.5470\n",
            "Epoch 53/100\n",
            "3008/4000 [=====================>........] - ETA: 4s - loss: 0.9129 - acc: 0.5465"
          ],
          "name": "stdout"
        },
        {
          "output_type": "stream",
          "text": [
            "4000/4000 [==============================] - 22s 6ms/step - loss: 0.9182 - acc: 0.5440 - val_loss: 0.9247 - val_acc: 0.5630\n",
            "Epoch 54/100\n",
            "4000/4000 [==============================] - 22s 6ms/step - loss: 0.8874 - acc: 0.5647 - val_loss: 0.9088 - val_acc: 0.5840\n",
            "Epoch 55/100\n",
            "4000/4000 [==============================] - 22s 6ms/step - loss: 0.8524 - acc: 0.5905 - val_loss: 0.8769 - val_acc: 0.6050\n",
            "Epoch 56/100\n",
            "4000/4000 [==============================] - 22s 6ms/step - loss: 0.8127 - acc: 0.6168 - val_loss: 0.8424 - val_acc: 0.6410\n",
            "Epoch 57/100\n",
            "3008/4000 [=====================>........] - ETA: 4s - loss: 0.7860 - acc: 0.6326"
          ],
          "name": "stdout"
        },
        {
          "output_type": "stream",
          "text": [
            "4000/4000 [==============================] - 22s 6ms/step - loss: 0.7686 - acc: 0.6460 - val_loss: 0.8147 - val_acc: 0.6630\n",
            "Epoch 58/100\n",
            "4000/4000 [==============================] - 22s 6ms/step - loss: 0.7216 - acc: 0.6763 - val_loss: 0.7749 - val_acc: 0.6770\n",
            "Epoch 59/100\n",
            "4000/4000 [==============================] - 22s 6ms/step - loss: 0.6792 - acc: 0.7080 - val_loss: 0.7592 - val_acc: 0.7010\n",
            "Epoch 60/100\n",
            "4000/4000 [==============================] - 22s 6ms/step - loss: 0.6338 - acc: 0.7350 - val_loss: 0.7868 - val_acc: 0.6710\n",
            "Epoch 61/100\n",
            "3008/4000 [=====================>........] - ETA: 4s - loss: 0.6342 - acc: 0.6941"
          ],
          "name": "stdout"
        },
        {
          "output_type": "stream",
          "text": [
            "4000/4000 [==============================] - 22s 6ms/step - loss: 0.6409 - acc: 0.6923 - val_loss: 0.7900 - val_acc: 0.7030\n",
            "Epoch 62/100\n",
            "4000/4000 [==============================] - 22s 6ms/step - loss: 0.5822 - acc: 0.7300 - val_loss: 0.8129 - val_acc: 0.7250\n",
            "Epoch 63/100\n",
            "4000/4000 [==============================] - 22s 6ms/step - loss: 0.5660 - acc: 0.7645 - val_loss: 0.8899 - val_acc: 0.7420\n",
            "Epoch 64/100\n",
            "4000/4000 [==============================] - 22s 6ms/step - loss: 0.5273 - acc: 0.7917 - val_loss: 0.9463 - val_acc: 0.7510\n",
            "Epoch 65/100\n",
            "3008/4000 [=====================>........] - ETA: 4s - loss: 0.5215 - acc: 0.7889"
          ],
          "name": "stdout"
        },
        {
          "output_type": "stream",
          "text": [
            "4000/4000 [==============================] - 22s 6ms/step - loss: 0.5049 - acc: 0.7903 - val_loss: 0.9070 - val_acc: 0.7490\n",
            "Epoch 66/100\n",
            "4000/4000 [==============================] - 22s 6ms/step - loss: 0.5040 - acc: 0.8083 - val_loss: 0.9949 - val_acc: 0.7580\n",
            "Epoch 67/100\n",
            "4000/4000 [==============================] - 22s 6ms/step - loss: 0.5169 - acc: 0.8255 - val_loss: 1.0817 - val_acc: 0.7590\n",
            "Epoch 68/100\n",
            "4000/4000 [==============================] - 22s 6ms/step - loss: 0.4862 - acc: 0.8243 - val_loss: 1.1199 - val_acc: 0.7680\n",
            "Epoch 69/100\n",
            "3008/4000 [=====================>........] - ETA: 4s - loss: 0.4607 - acc: 0.8291"
          ],
          "name": "stdout"
        },
        {
          "output_type": "stream",
          "text": [
            "4000/4000 [==============================] - 22s 6ms/step - loss: 0.4574 - acc: 0.8267 - val_loss: 1.0316 - val_acc: 0.7600\n",
            "Epoch 70/100\n",
            "4000/4000 [==============================] - 22s 6ms/step - loss: 0.4247 - acc: 0.8267 - val_loss: 1.0850 - val_acc: 0.7620\n",
            "Epoch 71/100\n",
            "4000/4000 [==============================] - 22s 6ms/step - loss: 0.4166 - acc: 0.8462 - val_loss: 1.1814 - val_acc: 0.7740\n",
            "Epoch 72/100\n",
            "4000/4000 [==============================] - 22s 6ms/step - loss: 0.4011 - acc: 0.8525 - val_loss: 1.1445 - val_acc: 0.7870\n",
            "Epoch 73/100\n",
            "3008/4000 [=====================>........] - ETA: 4s - loss: 0.3542 - acc: 0.8660"
          ],
          "name": "stdout"
        },
        {
          "output_type": "stream",
          "text": [
            "4000/4000 [==============================] - 22s 6ms/step - loss: 0.3639 - acc: 0.8578 - val_loss: 1.1392 - val_acc: 0.7940\n",
            "Epoch 74/100\n",
            "4000/4000 [==============================] - 22s 6ms/step - loss: 0.3464 - acc: 0.8570 - val_loss: 1.2128 - val_acc: 0.7890\n",
            "Epoch 75/100\n",
            "4000/4000 [==============================] - 22s 6ms/step - loss: 0.3121 - acc: 0.8602 - val_loss: 1.1773 - val_acc: 0.7900\n",
            "Epoch 76/100\n",
            "4000/4000 [==============================] - 22s 6ms/step - loss: 0.2854 - acc: 0.8638 - val_loss: 1.2018 - val_acc: 0.7970\n",
            "Epoch 77/100\n",
            "3008/4000 [=====================>........] - ETA: 4s - loss: 0.2717 - acc: 0.8580"
          ],
          "name": "stdout"
        },
        {
          "output_type": "stream",
          "text": [
            "4000/4000 [==============================] - 22s 6ms/step - loss: 0.2821 - acc: 0.8620 - val_loss: 1.1865 - val_acc: 0.7880\n",
            "Epoch 78/100\n",
            "4000/4000 [==============================] - 22s 6ms/step - loss: 0.2664 - acc: 0.8655 - val_loss: 1.1579 - val_acc: 0.7930\n",
            "Epoch 79/100\n",
            "4000/4000 [==============================] - 22s 6ms/step - loss: 0.2600 - acc: 0.8685 - val_loss: 1.0391 - val_acc: 0.7930\n",
            "Epoch 80/100\n",
            "4000/4000 [==============================] - 22s 6ms/step - loss: 0.2465 - acc: 0.8705 - val_loss: 1.0359 - val_acc: 0.7890\n",
            "Epoch 81/100\n",
            "3008/4000 [=====================>........] - ETA: 4s - loss: 0.2353 - acc: 0.8707"
          ],
          "name": "stdout"
        },
        {
          "output_type": "stream",
          "text": [
            "4000/4000 [==============================] - 22s 6ms/step - loss: 0.2356 - acc: 0.8725 - val_loss: 1.1303 - val_acc: 0.7880\n",
            "Epoch 82/100\n",
            "4000/4000 [==============================] - 22s 6ms/step - loss: 0.2259 - acc: 0.8705 - val_loss: 1.0853 - val_acc: 0.7890\n",
            "Epoch 83/100\n",
            "4000/4000 [==============================] - 22s 6ms/step - loss: 0.2172 - acc: 0.8743 - val_loss: 1.0897 - val_acc: 0.7830\n",
            "Epoch 84/100\n",
            "4000/4000 [==============================] - 22s 6ms/step - loss: 0.2099 - acc: 0.8722 - val_loss: 1.0833 - val_acc: 0.7890\n",
            "Epoch 85/100\n",
            "3008/4000 [=====================>........] - ETA: 4s - loss: 0.2041 - acc: 0.8700"
          ],
          "name": "stdout"
        },
        {
          "output_type": "stream",
          "text": [
            "4000/4000 [==============================] - 22s 6ms/step - loss: 0.2027 - acc: 0.8738 - val_loss: 1.0647 - val_acc: 0.7860\n",
            "Epoch 86/100\n",
            "4000/4000 [==============================] - 22s 6ms/step - loss: 0.1806 - acc: 0.8743 - val_loss: 0.9889 - val_acc: 0.7850\n",
            "Epoch 87/100\n",
            "4000/4000 [==============================] - 22s 6ms/step - loss: 0.1750 - acc: 0.8730 - val_loss: 0.9240 - val_acc: 0.7750\n",
            "Epoch 88/100\n",
            "4000/4000 [==============================] - 22s 6ms/step - loss: 0.1697 - acc: 0.8690 - val_loss: 0.9141 - val_acc: 0.7690\n",
            "Epoch 89/100\n",
            "3008/4000 [=====================>........] - ETA: 4s - loss: 0.1737 - acc: 0.8664"
          ],
          "name": "stdout"
        },
        {
          "output_type": "stream",
          "text": [
            "4000/4000 [==============================] - 22s 6ms/step - loss: 0.1549 - acc: 0.8655 - val_loss: 1.0096 - val_acc: 0.7600\n",
            "Epoch 90/100\n",
            "4000/4000 [==============================] - 22s 6ms/step - loss: 0.1543 - acc: 0.8595 - val_loss: 0.9908 - val_acc: 0.7580\n",
            "Epoch 91/100\n",
            "4000/4000 [==============================] - 22s 6ms/step - loss: 0.1421 - acc: 0.8563 - val_loss: 0.9416 - val_acc: 0.7590\n",
            "Epoch 92/100\n",
            "4000/4000 [==============================] - 22s 6ms/step - loss: 0.1417 - acc: 0.8582 - val_loss: 0.8881 - val_acc: 0.7470\n",
            "Epoch 93/100\n",
            "3008/4000 [=====================>........] - ETA: 4s - loss: 0.1204 - acc: 0.8541"
          ],
          "name": "stdout"
        },
        {
          "output_type": "stream",
          "text": [
            "4000/4000 [==============================] - 22s 6ms/step - loss: 0.1300 - acc: 0.8503 - val_loss: 0.9148 - val_acc: 0.7560\n",
            "Epoch 94/100\n",
            "4000/4000 [==============================] - 22s 6ms/step - loss: 0.1183 - acc: 0.8468 - val_loss: 0.8166 - val_acc: 0.7460\n",
            "Epoch 95/100\n",
            "4000/4000 [==============================] - 22s 6ms/step - loss: 0.1190 - acc: 0.8458 - val_loss: 0.8355 - val_acc: 0.7420\n",
            "Epoch 96/100\n",
            "4000/4000 [==============================] - 22s 6ms/step - loss: 0.1036 - acc: 0.8438 - val_loss: 0.8130 - val_acc: 0.7430\n",
            "Epoch 97/100\n",
            "3008/4000 [=====================>........] - ETA: 4s - loss: 0.0960 - acc: 0.8421"
          ],
          "name": "stdout"
        },
        {
          "output_type": "stream",
          "text": [
            "4000/4000 [==============================] - 22s 6ms/step - loss: 0.0964 - acc: 0.8443 - val_loss: 0.7612 - val_acc: 0.7410\n",
            "Epoch 98/100\n",
            "4000/4000 [==============================] - 22s 6ms/step - loss: 0.0932 - acc: 0.8417 - val_loss: 0.7742 - val_acc: 0.7380\n",
            "Epoch 99/100\n",
            "4000/4000 [==============================] - 22s 6ms/step - loss: 1.3390 - acc: 0.6068 - val_loss: 2.1314 - val_acc: 0.4680\n",
            "Epoch 100/100\n",
            "4000/4000 [==============================] - 22s 6ms/step - loss: 1.4023 - acc: 0.5487 - val_loss: 1.4173 - val_acc: 0.6060\n"
          ],
          "name": "stdout"
        }
      ]
    },
    {
      "metadata": {
        "id": "sL_rAFxKpGqi",
        "colab_type": "code",
        "colab": {
          "autoexec": {
            "startup": false,
            "wait_interval": 0
          },
          "base_uri": "https://localhost:8080/",
          "height": 752
        },
        "outputId": "893b889f-f7cb-41d1-e56b-2ef4658d1f66",
        "executionInfo": {
          "status": "ok",
          "timestamp": 1532462146737,
          "user_tz": 240,
          "elapsed": 1295,
          "user": {
            "displayName": "Thomas Possidente",
            "photoUrl": "https://lh3.googleusercontent.com/a/default-user=s128",
            "userId": "106075129304574823577"
          }
        }
      },
      "cell_type": "code",
      "source": [
        "print(y.history.keys())\n",
        "# summarize history for accuracy\n",
        "plt.plot(y.history['acc'])\n",
        "plt.plot(y.history['val_acc'])\n",
        "plt.title('model accuracy')\n",
        "plt.ylabel('accuracy')\n",
        "plt.xlabel('epoch')\n",
        "plt.legend(['train', 'test'], loc='upper left')\n",
        "plt.show()\n",
        "# summarize history for loss\n",
        "plt.plot(y.history['loss'])\n",
        "plt.plot(y.history['val_loss'])\n",
        "plt.title('model loss')\n",
        "plt.ylabel('loss')\n",
        "plt.xlabel('epoch')\n",
        "plt.legend(['train', 'test'], loc='upper left')\n",
        "plt.show()"
      ],
      "execution_count": 16,
      "outputs": [
        {
          "output_type": "stream",
          "text": [
            "['acc', 'loss', 'val_acc', 'val_loss']\n"
          ],
          "name": "stdout"
        },
        {
          "output_type": "display_data",
          "data": {
            "image/png": "[encoded data removed]",
            "text/plain": [
              "<matplotlib.figure.Figure at 0x7f89a7a502d0>"
            ]
          },
          "metadata": {
            "tags": []
          }
        },
        {
          "output_type": "display_data",
          "data": {
            "image/png": "[encoded data removed]",
            "text/plain": [
              "<matplotlib.figure.Figure at 0x7f89a7a3ba90>"
            ]
          },
          "metadata": {
            "tags": []
          }
        }
      ]
    },
    {
      "metadata": {
        "id": "BMXtb6F_-3yx",
        "colab_type": "code",
        "colab": {
          "autoexec": {
            "startup": false,
            "wait_interval": 0
          }
        }
      },
      "cell_type": "code",
      "source": [
        "# convert images to LAB space and normalize\n",
        "\n",
        "lab_train = np.zeros((ntrain, 224, 224, 3))\n",
        "ii = 0\n",
        "for im in train_images:\n",
        "    lab_train[ii,::] = rgb2lab(im)\n",
        "    ii = ii + 1\n",
        "    # normalize ?"
      ],
      "execution_count": 0,
      "outputs": []
    },
    {
      "metadata": {
        "id": "hfUjXgKm-3y1",
        "colab_type": "code",
        "colab": {
          "autoexec": {
            "startup": false,
            "wait_interval": 0
          }
        }
      },
      "cell_type": "code",
      "source": [
        "k = 1000\n",
        "plt.figure(figsize=(40,20))\n",
        "plt.subplot(2,4,1)\n",
        "plt.imshow(train_images[k,::])\n",
        "plt.axis('off')\n",
        "for ii in range(0,3):\n",
        "    plt.subplot(2,4,ii+2)\n",
        "    plt.imshow(lab_train[k,:,:,ii])\n",
        "    plt.gray()\n",
        "    plt.axis('off')\n",
        "im = train_images[k,::]\n",
        "hsvim = rgb2hsv(im)\n",
        "plt.subplot(2,4,6)\n",
        "plt.imshow(hsvim[:,:,0])\n",
        "plt.axis('off')\n",
        "plt.subplot(2,4,7)\n",
        "plt.imshow(hsvim[:,:,1])\n",
        "plt.axis('off')\n",
        "plt.subplot(2,4,8)\n",
        "plt.imshow(hsvim[:,:,2])\n",
        "plt.axis('off')\n",
        "plt.show()"
      ],
      "execution_count": 0,
      "outputs": []
    },
    {
      "metadata": {
        "id": "sFJheF6w-3y7",
        "colab_type": "code",
        "colab": {
          "autoexec": {
            "startup": false,
            "wait_interval": 0
          }
        }
      },
      "cell_type": "code",
      "source": [
        ""
      ],
      "execution_count": 0,
      "outputs": []
    }
  ]
}