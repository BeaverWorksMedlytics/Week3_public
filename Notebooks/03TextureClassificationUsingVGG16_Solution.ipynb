{
  "nbformat": 4,
  "nbformat_minor": 0,
  "metadata": {
    "colab": {
      "name": "03TextureClassificationUsingVGG16-Solution.ipynb",
      "version": "0.3.2",
      "views": {},
      "default_view": {},
      "provenance": []
    },
    "kernelspec": {
      "display_name": "Python 2",
      "language": "python",
      "name": "python2"
    },
    "accelerator": "GPU"
  },
  "cells": [
    {
      "metadata": {
        "id": "9gPF149V-3xl",
        "colab_type": "text"
      },
      "cell_type": "markdown",
      "source": [
        "## Using pre-trained models for Texture Classification\n",
        "In this lab, we will use pre-trained models for the same texture classification task. The dataset we will be using is available here: http://dx.doi.org/10.5281/zenodo.53169. \n",
        "\n",
        "![alt text](https://www.researchgate.net/profile/Jakob_Kather/publication/303998214/figure/fig7/AS:391073710002224@1470250646407/Representative-images-from-our-dataset-Here-the-first-10-images-of-every-tissue-class.png)\n",
        "\n",
        "The above figure shows the 8 different classes of tissue we will be trying to identify. "
      ]
    },
    {
      "metadata": {
        "id": "2XS4HHKf-3xo",
        "colab_type": "code",
        "colab": {
          "autoexec": {
            "startup": false,
            "wait_interval": 0
          }
        }
      },
      "cell_type": "code",
      "source": [
        "from __future__ import print_function\n",
        "import os\n",
        "import numpy as np\n",
        "from tensorflow.keras.utils import to_categorical\n",
        "from tensorflow.keras import Model, Sequential\n",
        "from tensorflow.keras.layers import Input, Flatten, Dense, Dropout\n",
        "from tensorflow.keras.applications import VGG16\n",
        "from matplotlib import pylab as plt\n",
        "from skimage.color import rgb2lab, rgb2hsv"
      ],
      "execution_count": 0,
      "outputs": []
    },
    {
      "metadata": {
        "id": "1W3NwJ48-3xz",
        "colab_type": "text"
      },
      "cell_type": "markdown",
      "source": [
        "## Step 1: Load pre-trained VGG16 model\n",
        "We will use the VGG16 model as the feature extractor for this classification task. First, we need to download the pre-trained weights. The model has been trained on the ImageNet image classification dataset. For more details on this dataset see http://www.image-net.org/. "
      ]
    },
    {
      "metadata": {
        "id": "6VCkl7rQ-3x1",
        "colab_type": "code",
        "colab": {
          "autoexec": {
            "startup": false,
            "wait_interval": 0
          }
        }
      },
      "cell_type": "code",
      "source": [
        "model = None\n",
        "model = VGG16(weights='imagenet', include_top=False, input_shape = (150, 150, 3))\n",
        "#model.summary()"
      ],
      "execution_count": 0,
      "outputs": []
    },
    {
      "metadata": {
        "id": "MtRugIuZ-3x9",
        "colab_type": "text"
      },
      "cell_type": "markdown",
      "source": [
        "## VGG16\n",
        "Let's examine the VGG16 model. The model has 16 layers as seen above. The model has the following specifications\n",
        "* Expected input size : 224x224 pixels\n",
        "* Number of output classes : 1000\n",
        "\n",
        "Our images are 150x150 pixels in size and come from only 10 categories. In order to use this model for our classification task, we need to do the following:\n",
        "* Resize images : Our input images can be resized to the appropriate dimensions. Alternatively, we can pad our images to the expected dimensions. Padding leads to additional choices - Do we pad with zeros, duplicate edge pixels or mirror the image across edges ?\n",
        "* Change the prediction layer : Remove the existing prediction layer and add a new layer that can predict 8 classes.\n",
        "* Train : Finally, we need to train the network on our data"
      ]
    },
    {
      "metadata": {
        "id": "5qee4CK6-3x_",
        "colab_type": "text"
      },
      "cell_type": "markdown",
      "source": [
        "# Step 2\n",
        "Load the data and resize images appropriately. Use the helper function in utils.py. The assumption is that you have already cloned the Week3 repo and know the path to the data folder."
      ]
    },
    {
      "metadata": {
        "id": "_k5tmqKKEXnj",
        "colab_type": "code",
        "colab": {
          "autoexec": {
            "startup": false,
            "wait_interval": 0
          }
        }
      },
      "cell_type": "code",
      "source": [
        "def load_crc_data(data_dir):\n",
        "    y = np.load(os.path.join(data_dir, 'rgb01.npz'))\n",
        "    labels = y['labels']\n",
        "    data = y['rgb_data']\n",
        "    label_str = y['label_str']\n",
        "    label_str = label_str.tolist() # this is to convert label_str back to a dictionary\n",
        "    y = []\n",
        "\n",
        "    for ii in range(2,6):\n",
        "        filename = os.path.join(data_dir, 'rgb0' + str(ii) + '.npz')\n",
        "        print('loading ', filename)\n",
        "        y = np.load(filename)\n",
        "        labels = np.append(labels, y['labels'], axis=0)\n",
        "        data = np.append(data, y['rgb_data'], axis=0)\n",
        "        print(data.shape)\n",
        "\n",
        "    return data, labels, label_str"
      ],
      "execution_count": 0,
      "outputs": []
    },
    {
      "metadata": {
        "id": "v4ISStKX-3yC",
        "colab_type": "code",
        "colab": {
          "autoexec": {
            "startup": false,
            "wait_interval": 0
          },
          "base_uri": "https://localhost:8080/",
          "height": 151
        },
        "outputId": "8a0a8c82-9c00-4712-f7e3-9a5b346db9aa",
        "executionInfo": {
          "status": "ok",
          "timestamp": 1532367221415,
          "user_tz": 240,
          "elapsed": 2102,
          "user": {
            "displayName": "Thomas Possidente",
            "photoUrl": "https://lh3.googleusercontent.com/a/default-user=s128",
            "userId": "106075129304574823577"
          }
        }
      },
      "cell_type": "code",
      "source": [
        "#! git clone https://github.com/BeaverWorksMedlytics/Week3_public.git\n",
        "os.chdir('..')\n",
        "from skimage.transform import resize\n",
        "from sklearn.model_selection import train_test_split\n",
        "data_dir = os.path.join( os.getcwd(), 'Week3_public', 'data', 'crc')\n",
        "data, labels, label_str = load_crc_data(data_dir)\n",
        "num_images = data.shape[0]"
      ],
      "execution_count": 4,
      "outputs": [
        {
          "output_type": "stream",
          "text": [
            "loading  /Week3_public/data/crc/rgb02.npz\n",
            "(2000, 150, 150, 3)\n",
            "loading  /Week3_public/data/crc/rgb03.npz\n",
            "(3000, 150, 150, 3)\n",
            "loading  /Week3_public/data/crc/rgb04.npz\n",
            "(4000, 150, 150, 3)\n",
            "loading  /Week3_public/data/crc/rgb05.npz\n",
            "(5000, 150, 150, 3)\n"
          ],
          "name": "stdout"
        }
      ]
    },
    {
      "metadata": {
        "id": "R0ag5Lm5-3yJ",
        "colab_type": "code",
        "colab": {
          "autoexec": {
            "startup": false,
            "wait_interval": 0
          },
          "base_uri": "https://localhost:8080/",
          "height": 34
        },
        "outputId": "40379779-068a-4530-8752-d9292d59db9d",
        "executionInfo": {
          "status": "ok",
          "timestamp": 1532366282763,
          "user_tz": 240,
          "elapsed": 40845,
          "user": {
            "displayName": "Thomas Possidente",
            "photoUrl": "https://lh3.googleusercontent.com/a/default-user=s128",
            "userId": "106075129304574823577"
          }
        }
      },
      "cell_type": "code",
      "source": [
        "# Resize data\n",
        "#resized_data = np.zeros((num_images, 224, 224, 3))\n",
        "#for ii in range(0, num_images):\n",
        "#    resized_data[ii,::] = resize(data[ii,::], (224, 224, 3), mode='symmetric')\n",
        "#data = resized_data\n",
        "#resized_data = []\n",
        "#print(data.shape)"
      ],
      "execution_count": 5,
      "outputs": [
        {
          "output_type": "stream",
          "text": [
            "(5000, 224, 224, 3)\n"
          ],
          "name": "stdout"
        }
      ]
    },
    {
      "metadata": {
        "id": "NEoblCFT-3yP",
        "colab_type": "code",
        "colab": {
          "autoexec": {
            "startup": false,
            "wait_interval": 0
          }
        }
      },
      "cell_type": "code",
      "source": [
        "#with open('resized.npz', 'wb') as fp:\n",
        "#    np.savez(fp, data=data, labels=labels)"
      ],
      "execution_count": 0,
      "outputs": []
    },
    {
      "metadata": {
        "id": "YptbEz_3-3yS",
        "colab_type": "code",
        "colab": {
          "autoexec": {
            "startup": false,
            "wait_interval": 0
          }
        }
      },
      "cell_type": "code",
      "source": [
        "# Split data into train and test sets\n",
        "train_images, test_images, train_labels, test_labels = train_test_split(data, labels, test_size=.2)\n",
        "data = None\n",
        "ntrain = train_images.shape[0]\n",
        "ntest  = test_images.shape[0]"
      ],
      "execution_count": 0,
      "outputs": []
    },
    {
      "metadata": {
        "id": "zDQw9IrA-3yX",
        "colab_type": "text"
      },
      "cell_type": "markdown",
      "source": [
        "## Step 3\n",
        "We will now modify the pre-trained VGG network as described earlier. We will remove the following layers : \n",
        "\n",
        "<img src=\"images/final_layers.png\" width=\"65%\"></img> \n"
      ]
    },
    {
      "metadata": {
        "id": "AA1U0Oe--3yY",
        "colab_type": "code",
        "colab": {
          "autoexec": {
            "startup": false,
            "wait_interval": 0
          },
          "base_uri": "https://localhost:8080/",
          "height": 638
        },
        "outputId": "75a43b40-e0c1-4b2a-f0ad-3726214f8a51",
        "executionInfo": {
          "status": "ok",
          "timestamp": 1532367226576,
          "user_tz": 240,
          "elapsed": 1437,
          "user": {
            "displayName": "Thomas Possidente",
            "photoUrl": "https://lh3.googleusercontent.com/a/default-user=s128",
            "userId": "106075129304574823577"
          }
        }
      },
      "cell_type": "code",
      "source": [
        "# remove the final layer in the model\n",
        "for ii in range(0,4):\n",
        "    model.layers.pop()\n",
        "model.summary()"
      ],
      "execution_count": 6,
      "outputs": [
        {
          "output_type": "stream",
          "text": [
            "_________________________________________________________________\n",
            "Layer (type)                 Output Shape              Param #   \n",
            "=================================================================\n",
            "input_1 (InputLayer)         (None, 150, 150, 3)       0         \n",
            "_________________________________________________________________\n",
            "block1_conv1 (Conv2D)        (None, 150, 150, 64)      1792      \n",
            "_________________________________________________________________\n",
            "block1_conv2 (Conv2D)        (None, 150, 150, 64)      36928     \n",
            "_________________________________________________________________\n",
            "block1_pool (MaxPooling2D)   (None, 75, 75, 64)        0         \n",
            "_________________________________________________________________\n",
            "block2_conv1 (Conv2D)        (None, 75, 75, 128)       73856     \n",
            "_________________________________________________________________\n",
            "block2_conv2 (Conv2D)        (None, 75, 75, 128)       147584    \n",
            "_________________________________________________________________\n",
            "block2_pool (MaxPooling2D)   (None, 37, 37, 128)       0         \n",
            "_________________________________________________________________\n",
            "block3_conv1 (Conv2D)        (None, 37, 37, 256)       295168    \n",
            "_________________________________________________________________\n",
            "block3_conv2 (Conv2D)        (None, 37, 37, 256)       590080    \n",
            "_________________________________________________________________\n",
            "block3_conv3 (Conv2D)        (None, 37, 37, 256)       590080    \n",
            "_________________________________________________________________\n",
            "block3_pool (MaxPooling2D)   (None, 18, 18, 256)       0         \n",
            "_________________________________________________________________\n",
            "block4_conv1 (Conv2D)        (None, 18, 18, 512)       1180160   \n",
            "_________________________________________________________________\n",
            "block4_conv2 (Conv2D)        (None, 18, 18, 512)       2359808   \n",
            "_________________________________________________________________\n",
            "block4_conv3 (Conv2D)        (None, 18, 18, 512)       2359808   \n",
            "_________________________________________________________________\n",
            "block4_pool (MaxPooling2D)   (None, 9, 9, 512)         0         \n",
            "=================================================================\n",
            "Total params: 7,635,264\n",
            "Trainable params: 7,635,264\n",
            "Non-trainable params: 0\n",
            "_________________________________________________________________\n"
          ],
          "name": "stdout"
        }
      ]
    },
    {
      "metadata": {
        "id": "GgsfRGFN-3yc",
        "colab_type": "code",
        "colab": {
          "autoexec": {
            "startup": false,
            "wait_interval": 0
          },
          "base_uri": "https://localhost:8080/",
          "height": 1159
        },
        "outputId": "2a57d7b5-d375-4f9a-af74-de49d07758e8",
        "executionInfo": {
          "status": "ok",
          "timestamp": 1532367438221,
          "user_tz": 240,
          "elapsed": 843,
          "user": {
            "displayName": "Thomas Possidente",
            "photoUrl": "https://lh3.googleusercontent.com/a/default-user=s128",
            "userId": "106075129304574823577"
          }
        }
      },
      "cell_type": "code",
      "source": [
        "# Convert into sequential\n",
        "seq_model = None\n",
        "seq_model = Sequential()\n",
        "for layer in model.layers:\n",
        "    seq_model.add( layer )\n",
        "seq_model.summary()\n",
        "\n",
        "for ii in range(0,1):\n",
        "    seq_model.pop()\n",
        "\n",
        "seq_model.summary()"
      ],
      "execution_count": 12,
      "outputs": [
        {
          "output_type": "stream",
          "text": [
            "_________________________________________________________________\n",
            "Layer (type)                 Output Shape              Param #   \n",
            "=================================================================\n",
            "block1_conv1 (Conv2D)        (None, 150, 150, 64)      1792      \n",
            "_________________________________________________________________\n",
            "block1_conv2 (Conv2D)        (None, 150, 150, 64)      36928     \n",
            "_________________________________________________________________\n",
            "block1_pool (MaxPooling2D)   (None, 75, 75, 64)        0         \n",
            "_________________________________________________________________\n",
            "block2_conv1 (Conv2D)        (None, 75, 75, 128)       73856     \n",
            "_________________________________________________________________\n",
            "block2_conv2 (Conv2D)        (None, 75, 75, 128)       147584    \n",
            "_________________________________________________________________\n",
            "block2_pool (MaxPooling2D)   (None, 37, 37, 128)       0         \n",
            "_________________________________________________________________\n",
            "block3_conv1 (Conv2D)        (None, 37, 37, 256)       295168    \n",
            "_________________________________________________________________\n",
            "block3_conv2 (Conv2D)        (None, 37, 37, 256)       590080    \n",
            "_________________________________________________________________\n",
            "block3_conv3 (Conv2D)        (None, 37, 37, 256)       590080    \n",
            "_________________________________________________________________\n",
            "block3_pool (MaxPooling2D)   (None, 18, 18, 256)       0         \n",
            "_________________________________________________________________\n",
            "block4_conv1 (Conv2D)        (None, 18, 18, 512)       1180160   \n",
            "_________________________________________________________________\n",
            "block4_conv2 (Conv2D)        (None, 18, 18, 512)       2359808   \n",
            "_________________________________________________________________\n",
            "block4_conv3 (Conv2D)        (None, 18, 18, 512)       2359808   \n",
            "_________________________________________________________________\n",
            "block4_pool (MaxPooling2D)   (None, 9, 9, 512)         0         \n",
            "=================================================================\n",
            "Total params: 7,635,264\n",
            "Trainable params: 0\n",
            "Non-trainable params: 7,635,264\n",
            "_________________________________________________________________\n",
            "_________________________________________________________________\n",
            "Layer (type)                 Output Shape              Param #   \n",
            "=================================================================\n",
            "block1_conv1 (Conv2D)        (None, 150, 150, 64)      1792      \n",
            "_________________________________________________________________\n",
            "block1_conv2 (Conv2D)        (None, 150, 150, 64)      36928     \n",
            "_________________________________________________________________\n",
            "block1_pool (MaxPooling2D)   (None, 75, 75, 64)        0         \n",
            "_________________________________________________________________\n",
            "block2_conv1 (Conv2D)        (None, 75, 75, 128)       73856     \n",
            "_________________________________________________________________\n",
            "block2_conv2 (Conv2D)        (None, 75, 75, 128)       147584    \n",
            "_________________________________________________________________\n",
            "block2_pool (MaxPooling2D)   (None, 37, 37, 128)       0         \n",
            "_________________________________________________________________\n",
            "block3_conv1 (Conv2D)        (None, 37, 37, 256)       295168    \n",
            "_________________________________________________________________\n",
            "block3_conv2 (Conv2D)        (None, 37, 37, 256)       590080    \n",
            "_________________________________________________________________\n",
            "block3_conv3 (Conv2D)        (None, 37, 37, 256)       590080    \n",
            "_________________________________________________________________\n",
            "block3_pool (MaxPooling2D)   (None, 18, 18, 256)       0         \n",
            "_________________________________________________________________\n",
            "block4_conv1 (Conv2D)        (None, 18, 18, 512)       1180160   \n",
            "_________________________________________________________________\n",
            "block4_conv2 (Conv2D)        (None, 18, 18, 512)       2359808   \n",
            "_________________________________________________________________\n",
            "block4_conv3 (Conv2D)        (None, 18, 18, 512)       2359808   \n",
            "=================================================================\n",
            "Total params: 7,635,264\n",
            "Trainable params: 0\n",
            "Non-trainable params: 7,635,264\n",
            "_________________________________________________________________\n"
          ],
          "name": "stdout"
        }
      ]
    },
    {
      "metadata": {
        "id": "hkqoOtvN-3yi",
        "colab_type": "text"
      },
      "cell_type": "markdown",
      "source": [
        "# Step 4\n",
        "Freeze the layers that remain in our model."
      ]
    },
    {
      "metadata": {
        "id": "QWiVwA-7-3yi",
        "colab_type": "code",
        "colab": {
          "autoexec": {
            "startup": false,
            "wait_interval": 0
          },
          "base_uri": "https://localhost:8080/",
          "height": 1193
        },
        "outputId": "3f00d978-32df-4cd9-8e61-e615eee5e3d9",
        "executionInfo": {
          "status": "ok",
          "timestamp": 1532367441623,
          "user_tz": 240,
          "elapsed": 731,
          "user": {
            "displayName": "Thomas Possidente",
            "photoUrl": "https://lh3.googleusercontent.com/a/default-user=s128",
            "userId": "106075129304574823577"
          }
        }
      },
      "cell_type": "code",
      "source": [
        "for layer in seq_model.layers:\n",
        "    layer.trainable = False\n",
        "seq_model.summary()\n",
        "\n",
        "seq_model.add( Flatten(name=\"my_flatten\") )\n",
        "#seq_model.add( Dense(1024, activation=\"relu\", name=\"new_dense1\") )\n",
        "#seq_model.add( Dropout(0.5) )\n",
        "#seq_model.add( Dense(64, activation=\"relu\", name=\"new_dense2\") )\n",
        "seq_model.add( Dense(8, activation=\"relu\", name=\"predictions\") )\n",
        "\n",
        "seq_model.summary()"
      ],
      "execution_count": 13,
      "outputs": [
        {
          "output_type": "stream",
          "text": [
            "_________________________________________________________________\n",
            "Layer (type)                 Output Shape              Param #   \n",
            "=================================================================\n",
            "block1_conv1 (Conv2D)        (None, 150, 150, 64)      1792      \n",
            "_________________________________________________________________\n",
            "block1_conv2 (Conv2D)        (None, 150, 150, 64)      36928     \n",
            "_________________________________________________________________\n",
            "block1_pool (MaxPooling2D)   (None, 75, 75, 64)        0         \n",
            "_________________________________________________________________\n",
            "block2_conv1 (Conv2D)        (None, 75, 75, 128)       73856     \n",
            "_________________________________________________________________\n",
            "block2_conv2 (Conv2D)        (None, 75, 75, 128)       147584    \n",
            "_________________________________________________________________\n",
            "block2_pool (MaxPooling2D)   (None, 37, 37, 128)       0         \n",
            "_________________________________________________________________\n",
            "block3_conv1 (Conv2D)        (None, 37, 37, 256)       295168    \n",
            "_________________________________________________________________\n",
            "block3_conv2 (Conv2D)        (None, 37, 37, 256)       590080    \n",
            "_________________________________________________________________\n",
            "block3_conv3 (Conv2D)        (None, 37, 37, 256)       590080    \n",
            "_________________________________________________________________\n",
            "block3_pool (MaxPooling2D)   (None, 18, 18, 256)       0         \n",
            "_________________________________________________________________\n",
            "block4_conv1 (Conv2D)        (None, 18, 18, 512)       1180160   \n",
            "_________________________________________________________________\n",
            "block4_conv2 (Conv2D)        (None, 18, 18, 512)       2359808   \n",
            "_________________________________________________________________\n",
            "block4_conv3 (Conv2D)        (None, 18, 18, 512)       2359808   \n",
            "=================================================================\n",
            "Total params: 7,635,264\n",
            "Trainable params: 0\n",
            "Non-trainable params: 7,635,264\n",
            "_________________________________________________________________\n",
            "_________________________________________________________________\n",
            "Layer (type)                 Output Shape              Param #   \n",
            "=================================================================\n",
            "block1_conv1 (Conv2D)        (None, 150, 150, 64)      1792      \n",
            "_________________________________________________________________\n",
            "block1_conv2 (Conv2D)        (None, 150, 150, 64)      36928     \n",
            "_________________________________________________________________\n",
            "block1_pool (MaxPooling2D)   (None, 75, 75, 64)        0         \n",
            "_________________________________________________________________\n",
            "block2_conv1 (Conv2D)        (None, 75, 75, 128)       73856     \n",
            "_________________________________________________________________\n",
            "block2_conv2 (Conv2D)        (None, 75, 75, 128)       147584    \n",
            "_________________________________________________________________\n",
            "block2_pool (MaxPooling2D)   (None, 37, 37, 128)       0         \n",
            "_________________________________________________________________\n",
            "block3_conv1 (Conv2D)        (None, 37, 37, 256)       295168    \n",
            "_________________________________________________________________\n",
            "block3_conv2 (Conv2D)        (None, 37, 37, 256)       590080    \n",
            "_________________________________________________________________\n",
            "block3_conv3 (Conv2D)        (None, 37, 37, 256)       590080    \n",
            "_________________________________________________________________\n",
            "block3_pool (MaxPooling2D)   (None, 18, 18, 256)       0         \n",
            "_________________________________________________________________\n",
            "block4_conv1 (Conv2D)        (None, 18, 18, 512)       1180160   \n",
            "_________________________________________________________________\n",
            "block4_conv2 (Conv2D)        (None, 18, 18, 512)       2359808   \n",
            "_________________________________________________________________\n",
            "block4_conv3 (Conv2D)        (None, 18, 18, 512)       2359808   \n",
            "_________________________________________________________________\n",
            "my_flatten (Flatten)         (None, 165888)            0         \n",
            "_________________________________________________________________\n",
            "predictions (Dense)          (None, 8)                 1327112   \n",
            "=================================================================\n",
            "Total params: 8,962,376\n",
            "Trainable params: 1,327,112\n",
            "Non-trainable params: 7,635,264\n",
            "_________________________________________________________________\n"
          ],
          "name": "stdout"
        }
      ]
    },
    {
      "metadata": {
        "id": "uQDI5Thq-3yn",
        "colab_type": "code",
        "colab": {
          "autoexec": {
            "startup": false,
            "wait_interval": 0
          }
        }
      },
      "cell_type": "code",
      "source": [
        "seq_model.compile(optimizer='sgd', loss='categorical_crossentropy', metrics = ['accuracy'])"
      ],
      "execution_count": 0,
      "outputs": []
    },
    {
      "metadata": {
        "id": "TVRFOLnl-3yr",
        "colab_type": "code",
        "colab": {
          "autoexec": {
            "startup": false,
            "wait_interval": 0
          }
        }
      },
      "cell_type": "code",
      "source": [
        "train_labels = to_categorical(train_labels)\n",
        "test_labels = to_categorical(test_labels)"
      ],
      "execution_count": 0,
      "outputs": []
    },
    {
      "metadata": {
        "id": "zONGCaxU-3yt",
        "colab_type": "code",
        "colab": {
          "autoexec": {
            "startup": false,
            "wait_interval": 0
          },
          "base_uri": "https://localhost:8080/",
          "height": 67
        },
        "outputId": "5165cfe7-db2e-4c12-a5de-a64cca6a6550"
      },
      "cell_type": "code",
      "source": [
        "y = seq_model.fit(train_images, train_labels, validation_data=(test_images, test_labels),\n",
        "                  batch_size=64, epochs=50, verbose=1)"
      ],
      "execution_count": 0,
      "outputs": [
        {
          "output_type": "stream",
          "text": [
            "Train on 4000 samples, validate on 1000 samples\n",
            "Epoch 1/50\n",
            " 512/4000 [==>...........................] - ETA: 16s - loss: 4.7881 - acc: 0.2812"
          ],
          "name": "stdout"
        }
      ]
    },
    {
      "metadata": {
        "id": "BMXtb6F_-3yx",
        "colab_type": "code",
        "colab": {
          "autoexec": {
            "startup": false,
            "wait_interval": 0
          }
        }
      },
      "cell_type": "code",
      "source": [
        "# convert images to LAB space and normalize\n",
        "\n",
        "lab_train = np.zeros((ntrain, 224, 224, 3))\n",
        "ii = 0\n",
        "for im in train_images:\n",
        "    lab_train[ii,::] = rgb2lab(im)\n",
        "    ii = ii + 1\n",
        "    # normalize ?"
      ],
      "execution_count": 0,
      "outputs": []
    },
    {
      "metadata": {
        "id": "hfUjXgKm-3y1",
        "colab_type": "code",
        "colab": {
          "autoexec": {
            "startup": false,
            "wait_interval": 0
          }
        }
      },
      "cell_type": "code",
      "source": [
        "k = 1000\n",
        "plt.figure(figsize=(40,20))\n",
        "plt.subplot(2,4,1)\n",
        "plt.imshow(train_images[k,::])\n",
        "plt.axis('off')\n",
        "for ii in range(0,3):\n",
        "    plt.subplot(2,4,ii+2)\n",
        "    plt.imshow(lab_train[k,:,:,ii])\n",
        "    plt.gray()\n",
        "    plt.axis('off')\n",
        "im = train_images[k,::]\n",
        "hsvim = rgb2hsv(im)\n",
        "plt.subplot(2,4,6)\n",
        "plt.imshow(hsvim[:,:,0])\n",
        "plt.axis('off')\n",
        "plt.subplot(2,4,7)\n",
        "plt.imshow(hsvim[:,:,1])\n",
        "plt.axis('off')\n",
        "plt.subplot(2,4,8)\n",
        "plt.imshow(hsvim[:,:,2])\n",
        "plt.axis('off')\n",
        "plt.show()"
      ],
      "execution_count": 0,
      "outputs": []
    },
    {
      "metadata": {
        "id": "sFJheF6w-3y7",
        "colab_type": "code",
        "colab": {
          "autoexec": {
            "startup": false,
            "wait_interval": 0
          }
        }
      },
      "cell_type": "code",
      "source": [
        ""
      ],
      "execution_count": 0,
      "outputs": []
    }
  ]
}